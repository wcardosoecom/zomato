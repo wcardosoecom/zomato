{
 "cells": [
  {
   "cell_type": "code",
   "execution_count": 1,
   "metadata": {},
   "outputs": [],
   "source": [
    "### IMPORT LIBRARIES ###\n",
    "import pandas as pd\n",
    "import inflection\n",
    "import streamlit as st\n",
    "import numpy as np\n",
    "import plotly.express as px\n",
    "from pandas.core.internals import concat\n",
    "from PIL import Image\n",
    "import plotly.express as px"
   ]
  },
  {
   "cell_type": "code",
   "execution_count": 2,
   "metadata": {},
   "outputs": [],
   "source": [
    "### IMPORT DATASET + COPY ###\n",
    "df = pd.read_csv('dataset/zomato.csv')\n",
    "df1 = df.copy()"
   ]
  },
  {
   "cell_type": "code",
   "execution_count": 3,
   "metadata": {},
   "outputs": [
    {
     "data": {
      "text/html": [
       "<div>\n",
       "<style scoped>\n",
       "    .dataframe tbody tr th:only-of-type {\n",
       "        vertical-align: middle;\n",
       "    }\n",
       "\n",
       "    .dataframe tbody tr th {\n",
       "        vertical-align: top;\n",
       "    }\n",
       "\n",
       "    .dataframe thead th {\n",
       "        text-align: right;\n",
       "    }\n",
       "</style>\n",
       "<table border=\"1\" class=\"dataframe\">\n",
       "  <thead>\n",
       "    <tr style=\"text-align: right;\">\n",
       "      <th></th>\n",
       "      <th>Restaurant ID</th>\n",
       "      <th>Restaurant Name</th>\n",
       "      <th>Country Code</th>\n",
       "      <th>City</th>\n",
       "      <th>Address</th>\n",
       "      <th>Locality</th>\n",
       "      <th>Locality Verbose</th>\n",
       "      <th>Longitude</th>\n",
       "      <th>Latitude</th>\n",
       "      <th>Cuisines</th>\n",
       "      <th>...</th>\n",
       "      <th>Currency</th>\n",
       "      <th>Has Table booking</th>\n",
       "      <th>Has Online delivery</th>\n",
       "      <th>Is delivering now</th>\n",
       "      <th>Switch to order menu</th>\n",
       "      <th>Price range</th>\n",
       "      <th>Aggregate rating</th>\n",
       "      <th>Rating color</th>\n",
       "      <th>Rating text</th>\n",
       "      <th>Votes</th>\n",
       "    </tr>\n",
       "  </thead>\n",
       "  <tbody>\n",
       "    <tr>\n",
       "      <th>0</th>\n",
       "      <td>6310675</td>\n",
       "      <td>Mama Lou's Italian Kitchen</td>\n",
       "      <td>162</td>\n",
       "      <td>Las Piñas City</td>\n",
       "      <td>Block 1, Lot 36, Tropical Avenue Corner Tropic...</td>\n",
       "      <td>BF International</td>\n",
       "      <td>BF International, Las Piñas City</td>\n",
       "      <td>121.009787</td>\n",
       "      <td>14.447615</td>\n",
       "      <td>Italian</td>\n",
       "      <td>...</td>\n",
       "      <td>Botswana Pula(P)</td>\n",
       "      <td>1</td>\n",
       "      <td>0</td>\n",
       "      <td>0</td>\n",
       "      <td>0</td>\n",
       "      <td>3</td>\n",
       "      <td>4.6</td>\n",
       "      <td>3F7E00</td>\n",
       "      <td>Excellent</td>\n",
       "      <td>619</td>\n",
       "    </tr>\n",
       "    <tr>\n",
       "      <th>1</th>\n",
       "      <td>6310675</td>\n",
       "      <td>Mama Lou's Italian Kitchen</td>\n",
       "      <td>162</td>\n",
       "      <td>Las Piñas City</td>\n",
       "      <td>Block 1, Lot 36, Tropical Avenue Corner Tropic...</td>\n",
       "      <td>BF International</td>\n",
       "      <td>BF International, Las Piñas City</td>\n",
       "      <td>121.009787</td>\n",
       "      <td>14.447615</td>\n",
       "      <td>Italian</td>\n",
       "      <td>...</td>\n",
       "      <td>Botswana Pula(P)</td>\n",
       "      <td>1</td>\n",
       "      <td>0</td>\n",
       "      <td>0</td>\n",
       "      <td>0</td>\n",
       "      <td>3</td>\n",
       "      <td>4.6</td>\n",
       "      <td>3F7E00</td>\n",
       "      <td>Excellent</td>\n",
       "      <td>619</td>\n",
       "    </tr>\n",
       "    <tr>\n",
       "      <th>2</th>\n",
       "      <td>6314542</td>\n",
       "      <td>Blackbird</td>\n",
       "      <td>162</td>\n",
       "      <td>Makati City</td>\n",
       "      <td>Nielson Tower, Ayala Triangle Gardens, Salcedo...</td>\n",
       "      <td>Ayala Triangle Gardens, Salcedo Village, Makat...</td>\n",
       "      <td>Ayala Triangle Gardens, Salcedo Village, Makat...</td>\n",
       "      <td>121.024562</td>\n",
       "      <td>14.556042</td>\n",
       "      <td>European, Asian</td>\n",
       "      <td>...</td>\n",
       "      <td>Botswana Pula(P)</td>\n",
       "      <td>0</td>\n",
       "      <td>0</td>\n",
       "      <td>0</td>\n",
       "      <td>0</td>\n",
       "      <td>4</td>\n",
       "      <td>4.7</td>\n",
       "      <td>3F7E00</td>\n",
       "      <td>Excellent</td>\n",
       "      <td>469</td>\n",
       "    </tr>\n",
       "    <tr>\n",
       "      <th>3</th>\n",
       "      <td>6301293</td>\n",
       "      <td>Banapple</td>\n",
       "      <td>162</td>\n",
       "      <td>Makati City</td>\n",
       "      <td>Ayala Triangle Gardens, Salcedo Village, Makat...</td>\n",
       "      <td>Ayala Triangle Gardens, Salcedo Village, Makat...</td>\n",
       "      <td>Ayala Triangle Gardens, Salcedo Village, Makat...</td>\n",
       "      <td>121.023171</td>\n",
       "      <td>14.556196</td>\n",
       "      <td>Filipino, American, Italian, Bakery</td>\n",
       "      <td>...</td>\n",
       "      <td>Botswana Pula(P)</td>\n",
       "      <td>0</td>\n",
       "      <td>0</td>\n",
       "      <td>0</td>\n",
       "      <td>0</td>\n",
       "      <td>3</td>\n",
       "      <td>4.4</td>\n",
       "      <td>5BA829</td>\n",
       "      <td>Very Good</td>\n",
       "      <td>867</td>\n",
       "    </tr>\n",
       "    <tr>\n",
       "      <th>4</th>\n",
       "      <td>6315689</td>\n",
       "      <td>Bad Bird</td>\n",
       "      <td>162</td>\n",
       "      <td>Makati City</td>\n",
       "      <td>Hole In The Wall, Floor 4, Century City Mall, ...</td>\n",
       "      <td>Century City Mall, Poblacion, Makati City</td>\n",
       "      <td>Century City Mall, Poblacion, Makati City, Mak...</td>\n",
       "      <td>121.027708</td>\n",
       "      <td>14.565899</td>\n",
       "      <td>American</td>\n",
       "      <td>...</td>\n",
       "      <td>Botswana Pula(P)</td>\n",
       "      <td>0</td>\n",
       "      <td>0</td>\n",
       "      <td>0</td>\n",
       "      <td>0</td>\n",
       "      <td>3</td>\n",
       "      <td>4.4</td>\n",
       "      <td>5BA829</td>\n",
       "      <td>Very Good</td>\n",
       "      <td>858</td>\n",
       "    </tr>\n",
       "    <tr>\n",
       "      <th>5</th>\n",
       "      <td>6304833</td>\n",
       "      <td>Manam</td>\n",
       "      <td>162</td>\n",
       "      <td>Makati City</td>\n",
       "      <td>Level 1, Greenbelt 2, Ayala Center, Greenbelt,...</td>\n",
       "      <td>Greenbelt 2, San Lorenzo, Makati City</td>\n",
       "      <td>Greenbelt 2, San Lorenzo, Makati City, Makati ...</td>\n",
       "      <td>121.020380</td>\n",
       "      <td>14.552351</td>\n",
       "      <td>Filipino</td>\n",
       "      <td>...</td>\n",
       "      <td>Botswana Pula(P)</td>\n",
       "      <td>0</td>\n",
       "      <td>0</td>\n",
       "      <td>0</td>\n",
       "      <td>0</td>\n",
       "      <td>3</td>\n",
       "      <td>4.7</td>\n",
       "      <td>3F7E00</td>\n",
       "      <td>Excellent</td>\n",
       "      <td>930</td>\n",
       "    </tr>\n",
       "    <tr>\n",
       "      <th>6</th>\n",
       "      <td>18409457</td>\n",
       "      <td>Soban K-Town Grill</td>\n",
       "      <td>162</td>\n",
       "      <td>Makati City</td>\n",
       "      <td>Level 3, Greenbelt 3, Ayala Center, Greenbelt,...</td>\n",
       "      <td>Greenbelt 3, San Lorenzo, Makati City</td>\n",
       "      <td>Greenbelt 3, San Lorenzo, Makati City, Makati ...</td>\n",
       "      <td>121.021388</td>\n",
       "      <td>14.552248</td>\n",
       "      <td>Korean, Grill</td>\n",
       "      <td>...</td>\n",
       "      <td>Botswana Pula(P)</td>\n",
       "      <td>0</td>\n",
       "      <td>0</td>\n",
       "      <td>0</td>\n",
       "      <td>0</td>\n",
       "      <td>3</td>\n",
       "      <td>4.7</td>\n",
       "      <td>3F7E00</td>\n",
       "      <td>Excellent</td>\n",
       "      <td>935</td>\n",
       "    </tr>\n",
       "    <tr>\n",
       "      <th>7</th>\n",
       "      <td>18607559</td>\n",
       "      <td>Bluesmith Coffee &amp; Kitchen</td>\n",
       "      <td>162</td>\n",
       "      <td>Makati City</td>\n",
       "      <td>Level 3, Greenbelt 3, Ayala Center, Greenbelt,...</td>\n",
       "      <td>Greenbelt 3, San Lorenzo, Makati City</td>\n",
       "      <td>Greenbelt 3, San Lorenzo, Makati City, Makati ...</td>\n",
       "      <td>121.021374</td>\n",
       "      <td>14.552044</td>\n",
       "      <td>American, Filipino, Coffee</td>\n",
       "      <td>...</td>\n",
       "      <td>Botswana Pula(P)</td>\n",
       "      <td>0</td>\n",
       "      <td>0</td>\n",
       "      <td>0</td>\n",
       "      <td>0</td>\n",
       "      <td>3</td>\n",
       "      <td>4.0</td>\n",
       "      <td>5BA829</td>\n",
       "      <td>Very Good</td>\n",
       "      <td>340</td>\n",
       "    </tr>\n",
       "    <tr>\n",
       "      <th>8</th>\n",
       "      <td>6314001</td>\n",
       "      <td>Motorino Pizzeria Napoletana</td>\n",
       "      <td>162</td>\n",
       "      <td>Makati City</td>\n",
       "      <td>Level 2, Greenbelt 3, Ayala Center, Greenbelt,...</td>\n",
       "      <td>Greenbelt 3, San Lorenzo, Makati City</td>\n",
       "      <td>Greenbelt 3, San Lorenzo, Makati City, Makati ...</td>\n",
       "      <td>121.021772</td>\n",
       "      <td>14.551875</td>\n",
       "      <td>Pizza, Italian</td>\n",
       "      <td>...</td>\n",
       "      <td>Botswana Pula(P)</td>\n",
       "      <td>0</td>\n",
       "      <td>1</td>\n",
       "      <td>1</td>\n",
       "      <td>0</td>\n",
       "      <td>3</td>\n",
       "      <td>4.3</td>\n",
       "      <td>5BA829</td>\n",
       "      <td>Very Good</td>\n",
       "      <td>449</td>\n",
       "    </tr>\n",
       "    <tr>\n",
       "      <th>9</th>\n",
       "      <td>18189398</td>\n",
       "      <td>Shi Lin</td>\n",
       "      <td>162</td>\n",
       "      <td>Makati City</td>\n",
       "      <td>Level 3, Greenbelt 3, Ayala Center, Greenbelt,...</td>\n",
       "      <td>Greenbelt 3, San Lorenzo, Makati City</td>\n",
       "      <td>Greenbelt 3, San Lorenzo, Makati City, Makati ...</td>\n",
       "      <td>121.021653</td>\n",
       "      <td>14.552189</td>\n",
       "      <td>Taiwanese</td>\n",
       "      <td>...</td>\n",
       "      <td>Botswana Pula(P)</td>\n",
       "      <td>0</td>\n",
       "      <td>1</td>\n",
       "      <td>0</td>\n",
       "      <td>0</td>\n",
       "      <td>3</td>\n",
       "      <td>4.1</td>\n",
       "      <td>5BA829</td>\n",
       "      <td>Very Good</td>\n",
       "      <td>201</td>\n",
       "    </tr>\n",
       "  </tbody>\n",
       "</table>\n",
       "<p>10 rows × 21 columns</p>\n",
       "</div>"
      ],
      "text/plain": [
       "   Restaurant ID               Restaurant Name  Country Code            City  \\\n",
       "0        6310675    Mama Lou's Italian Kitchen           162  Las Piñas City   \n",
       "1        6310675    Mama Lou's Italian Kitchen           162  Las Piñas City   \n",
       "2        6314542                     Blackbird           162     Makati City   \n",
       "3        6301293                      Banapple           162     Makati City   \n",
       "4        6315689                      Bad Bird           162     Makati City   \n",
       "5        6304833                         Manam           162     Makati City   \n",
       "6       18409457            Soban K-Town Grill           162     Makati City   \n",
       "7       18607559    Bluesmith Coffee & Kitchen           162     Makati City   \n",
       "8        6314001  Motorino Pizzeria Napoletana           162     Makati City   \n",
       "9       18189398                       Shi Lin           162     Makati City   \n",
       "\n",
       "                                             Address  \\\n",
       "0  Block 1, Lot 36, Tropical Avenue Corner Tropic...   \n",
       "1  Block 1, Lot 36, Tropical Avenue Corner Tropic...   \n",
       "2  Nielson Tower, Ayala Triangle Gardens, Salcedo...   \n",
       "3  Ayala Triangle Gardens, Salcedo Village, Makat...   \n",
       "4  Hole In The Wall, Floor 4, Century City Mall, ...   \n",
       "5  Level 1, Greenbelt 2, Ayala Center, Greenbelt,...   \n",
       "6  Level 3, Greenbelt 3, Ayala Center, Greenbelt,...   \n",
       "7  Level 3, Greenbelt 3, Ayala Center, Greenbelt,...   \n",
       "8  Level 2, Greenbelt 3, Ayala Center, Greenbelt,...   \n",
       "9  Level 3, Greenbelt 3, Ayala Center, Greenbelt,...   \n",
       "\n",
       "                                            Locality  \\\n",
       "0                                   BF International   \n",
       "1                                   BF International   \n",
       "2  Ayala Triangle Gardens, Salcedo Village, Makat...   \n",
       "3  Ayala Triangle Gardens, Salcedo Village, Makat...   \n",
       "4          Century City Mall, Poblacion, Makati City   \n",
       "5              Greenbelt 2, San Lorenzo, Makati City   \n",
       "6              Greenbelt 3, San Lorenzo, Makati City   \n",
       "7              Greenbelt 3, San Lorenzo, Makati City   \n",
       "8              Greenbelt 3, San Lorenzo, Makati City   \n",
       "9              Greenbelt 3, San Lorenzo, Makati City   \n",
       "\n",
       "                                    Locality Verbose   Longitude   Latitude  \\\n",
       "0                   BF International, Las Piñas City  121.009787  14.447615   \n",
       "1                   BF International, Las Piñas City  121.009787  14.447615   \n",
       "2  Ayala Triangle Gardens, Salcedo Village, Makat...  121.024562  14.556042   \n",
       "3  Ayala Triangle Gardens, Salcedo Village, Makat...  121.023171  14.556196   \n",
       "4  Century City Mall, Poblacion, Makati City, Mak...  121.027708  14.565899   \n",
       "5  Greenbelt 2, San Lorenzo, Makati City, Makati ...  121.020380  14.552351   \n",
       "6  Greenbelt 3, San Lorenzo, Makati City, Makati ...  121.021388  14.552248   \n",
       "7  Greenbelt 3, San Lorenzo, Makati City, Makati ...  121.021374  14.552044   \n",
       "8  Greenbelt 3, San Lorenzo, Makati City, Makati ...  121.021772  14.551875   \n",
       "9  Greenbelt 3, San Lorenzo, Makati City, Makati ...  121.021653  14.552189   \n",
       "\n",
       "                              Cuisines  ...          Currency  \\\n",
       "0                              Italian  ...  Botswana Pula(P)   \n",
       "1                              Italian  ...  Botswana Pula(P)   \n",
       "2                      European, Asian  ...  Botswana Pula(P)   \n",
       "3  Filipino, American, Italian, Bakery  ...  Botswana Pula(P)   \n",
       "4                             American  ...  Botswana Pula(P)   \n",
       "5                             Filipino  ...  Botswana Pula(P)   \n",
       "6                        Korean, Grill  ...  Botswana Pula(P)   \n",
       "7           American, Filipino, Coffee  ...  Botswana Pula(P)   \n",
       "8                       Pizza, Italian  ...  Botswana Pula(P)   \n",
       "9                            Taiwanese  ...  Botswana Pula(P)   \n",
       "\n",
       "  Has Table booking  Has Online delivery  Is delivering now  \\\n",
       "0                 1                    0                  0   \n",
       "1                 1                    0                  0   \n",
       "2                 0                    0                  0   \n",
       "3                 0                    0                  0   \n",
       "4                 0                    0                  0   \n",
       "5                 0                    0                  0   \n",
       "6                 0                    0                  0   \n",
       "7                 0                    0                  0   \n",
       "8                 0                    1                  1   \n",
       "9                 0                    1                  0   \n",
       "\n",
       "   Switch to order menu  Price range  Aggregate rating  Rating color  \\\n",
       "0                     0            3               4.6        3F7E00   \n",
       "1                     0            3               4.6        3F7E00   \n",
       "2                     0            4               4.7        3F7E00   \n",
       "3                     0            3               4.4        5BA829   \n",
       "4                     0            3               4.4        5BA829   \n",
       "5                     0            3               4.7        3F7E00   \n",
       "6                     0            3               4.7        3F7E00   \n",
       "7                     0            3               4.0        5BA829   \n",
       "8                     0            3               4.3        5BA829   \n",
       "9                     0            3               4.1        5BA829   \n",
       "\n",
       "  Rating text Votes  \n",
       "0   Excellent   619  \n",
       "1   Excellent   619  \n",
       "2   Excellent   469  \n",
       "3   Very Good   867  \n",
       "4   Very Good   858  \n",
       "5   Excellent   930  \n",
       "6   Excellent   935  \n",
       "7   Very Good   340  \n",
       "8   Very Good   449  \n",
       "9   Very Good   201  \n",
       "\n",
       "[10 rows x 21 columns]"
      ]
     },
     "execution_count": 3,
     "metadata": {},
     "output_type": "execute_result"
    }
   ],
   "source": [
    "### TESTE DF ORIGINAL ###\n",
    "df1.head(10)"
   ]
  },
  {
   "cell_type": "code",
   "execution_count": 4,
   "metadata": {},
   "outputs": [],
   "source": [
    "### FUNÇÕES ###\n",
    "\n",
    "### função country_name() serve para indentificar o país do restaurante \n",
    "COUNTRIES = {\n",
    "    1: \"India\",\n",
    "    14: \"Australia\",\n",
    "    30: \"Brazil\",\n",
    "    37: \"Canada\",\n",
    "    94: \"Indonesia\",\n",
    "    148: \"New Zeland\",\n",
    "    162: \"Philippines\",\n",
    "    166: \"Qatar\",\n",
    "    184: \"Singapure\",\n",
    "    189: \"South Africa\",\n",
    "    191: \"Sri Lanka\",\n",
    "    208: \"Turkey\",\n",
    "    214: \"United Arab Emirates\",\n",
    "    215: \"England\",\n",
    "    216: \"United States of America\",\n",
    "}\n",
    "def country_name(country_id):\n",
    "    return COUNTRIES[country_id]\n",
    "###############################################\n",
    "\n",
    "### função create_price_tye() cria coluna com categoria para o tipo de \n",
    "# comida baseado no range de valores\n",
    "def create_price_tye(price_range):\n",
    "    if price_range == 1:\n",
    "        return \"cheap\"\n",
    "    elif price_range == 2:\n",
    "        return \"normal\"\n",
    "    elif price_range == 3:\n",
    "        return \"expensive\"\n",
    "    else:\n",
    "        return \"gourmet\"\n",
    "###############################################\n",
    "\n",
    "### função color_name() cria coluna com o nome das cores baseado em seus códigos\n",
    "COLORS = {\n",
    "    \"3F7E00\": \"darkgreen\",\n",
    "    \"5BA829\": \"green\",\n",
    "    \"9ACD32\": \"lightgreen\",\n",
    "    \"CDD614\": \"orange\",\n",
    "    \"FFBA00\": \"red\",\n",
    "    \"CBCBC8\": \"darkred\",\n",
    "    \"FF7800\": \"darkred\",\n",
    "}\n",
    "def color_name(color_code):\n",
    "    return COLORS[color_code]\n",
    "###############################################\n",
    "\n",
    "### função que renomeia as colunas \n",
    "def rename_columns(dataframe):\n",
    "    df1 = dataframe.copy()\n",
    "    title = lambda x: inflection.titleize(x)\n",
    "    snakecase = lambda x: inflection.underscore(x)\n",
    "    spaces = lambda x: x.replace(\" \", \"\")\n",
    "    cols_old = list(df1.columns)\n",
    "    cols_old = list(map(title, cols_old))\n",
    "    cols_old = list(map(spaces, cols_old))\n",
    "    cols_new = list(map(snakecase, cols_old))\n",
    "    df1.columns = cols_new\n",
    "    return df1\n",
    "###############################################\n",
    "\n",
    "\n",
    "\n",
    "\n"
   ]
  },
  {
   "cell_type": "code",
   "execution_count": 5,
   "metadata": {},
   "outputs": [],
   "source": [
    "### LIMPEZA DE DADOS ###\n",
    "\n",
    "### aplicação da função country_name \n",
    "df1['Country'] = df1['Country Code'].apply(country_name)\n",
    "\n",
    "### aplicação da função create_price_tye\n",
    "df1['Price Tye'] = df1['Price range'].apply(create_price_tye)\n",
    "\n",
    "### aplicação da função color_name\n",
    "df1['Color'] = df1['Rating color'].apply(color_name)\n",
    "\n",
    "\n"
   ]
  },
  {
   "cell_type": "code",
   "execution_count": 6,
   "metadata": {},
   "outputs": [],
   "source": [
    "### LIMPEZA SECUNDÁRIA ###\n",
    "\n",
    "### aplicação da função rename_columns\n",
    "df1 = rename_columns(df1)\n",
    "\n",
    "### definindo o tipo de culinária principal do restaurante\n",
    "df1[\"cuisines\"] = df1.loc[:, \"cuisines\"].apply(lambda x: str(x).split(\",\")[0])"
   ]
  },
  {
   "cell_type": "code",
   "execution_count": 7,
   "metadata": {},
   "outputs": [],
   "source": [
    "#Exportar o data frame limpo\n",
    "# df1.to_csv('dataset/zomato_clean.csv', index=False)\n",
    "\n",
    "# df1 = pd.read_csv('dataset/zomato_clean2.csv')"
   ]
  },
  {
   "cell_type": "code",
   "execution_count": 7,
   "metadata": {},
   "outputs": [
    {
     "data": {
      "text/plain": [
       "Index(['restaurant_id', 'restaurant_name', 'country_code', 'city', 'address',\n",
       "       'locality', 'locality_verbose', 'longitude', 'latitude', 'cuisines',\n",
       "       'average_cost_for_two', 'currency', 'has_table_booking',\n",
       "       'has_online_delivery', 'is_delivering_now', 'switch_to_order_menu',\n",
       "       'price_range', 'aggregate_rating', 'rating_color', 'rating_text',\n",
       "       'votes', 'country', 'price_tye', 'color'],\n",
       "      dtype='object')"
      ]
     },
     "execution_count": 7,
     "metadata": {},
     "output_type": "execute_result"
    }
   ],
   "source": [
    "df1.columns"
   ]
  },
  {
   "cell_type": "markdown",
   "metadata": {},
   "source": [
    "Quantos restaurantes únicos estão registrados?"
   ]
  },
  {
   "cell_type": "code",
   "execution_count": 8,
   "metadata": {},
   "outputs": [
    {
     "data": {
      "text/plain": [
       "6942"
      ]
     },
     "execution_count": 8,
     "metadata": {},
     "output_type": "execute_result"
    }
   ],
   "source": [
    "df1['restaurant_id'].nunique()"
   ]
  },
  {
   "cell_type": "markdown",
   "metadata": {},
   "source": [
    "Quantos países únicos estão registrados?"
   ]
  },
  {
   "cell_type": "code",
   "execution_count": 9,
   "metadata": {},
   "outputs": [
    {
     "data": {
      "text/plain": [
       "15"
      ]
     },
     "execution_count": 9,
     "metadata": {},
     "output_type": "execute_result"
    }
   ],
   "source": [
    "df1['country'].nunique()"
   ]
  },
  {
   "cell_type": "markdown",
   "metadata": {},
   "source": [
    "Quantas cidades únicas estão registradas?"
   ]
  },
  {
   "cell_type": "code",
   "execution_count": 12,
   "metadata": {},
   "outputs": [
    {
     "data": {
      "text/plain": [
       "125"
      ]
     },
     "execution_count": 12,
     "metadata": {},
     "output_type": "execute_result"
    }
   ],
   "source": [
    "#Quantas cidades únicas estão registradas?\n",
    "df1['city'].nunique()"
   ]
  },
  {
   "cell_type": "markdown",
   "metadata": {},
   "source": [
    "Qual o total de avaliações feitas?"
   ]
  },
  {
   "cell_type": "code",
   "execution_count": 71,
   "metadata": {},
   "outputs": [
    {
     "data": {
      "text/plain": [
       "4639654"
      ]
     },
     "execution_count": 71,
     "metadata": {},
     "output_type": "execute_result"
    }
   ],
   "source": [
    "#Qual o total de avaliações feitas?\n",
    "df1['votes'].sum()"
   ]
  },
  {
   "cell_type": "markdown",
   "metadata": {},
   "source": [
    "Qual o total de tipos de culinária registrados?"
   ]
  },
  {
   "cell_type": "code",
   "execution_count": 26,
   "metadata": {},
   "outputs": [
    {
     "data": {
      "text/plain": [
       "165"
      ]
     },
     "execution_count": 26,
     "metadata": {},
     "output_type": "execute_result"
    }
   ],
   "source": [
    "#Qual o total de tipos de culinária registrados?\n",
    "nonan = df1['cuisines'] != 'nan'\n",
    "df1.loc[nonan,'cuisines'].nunique()\n",
    "\n"
   ]
  },
  {
   "cell_type": "markdown",
   "metadata": {},
   "source": [
    "Qual o nome do país que possui mais cidades registradas?"
   ]
  },
  {
   "cell_type": "code",
   "execution_count": 129,
   "metadata": {},
   "outputs": [
    {
     "data": {
      "text/plain": [
       "'India'"
      ]
     },
     "execution_count": 129,
     "metadata": {},
     "output_type": "execute_result"
    }
   ],
   "source": [
    "city_counts = df1.groupby('country')['city'].nunique().reset_index()\n",
    "city_counts.columns = ['country', 't_cities']\n",
    "city_counts = city_counts.sort_values('t_cities', ascending=False)\n",
    "\n",
    "biggest_country = city_counts.iloc[0]['country']\n",
    "\n",
    "biggest_country"
   ]
  },
  {
   "cell_type": "code",
   "execution_count": 13,
   "metadata": {},
   "outputs": [
    {
     "data": {
      "application/vnd.plotly.v1+json": {
       "config": {
        "plotlyServerURL": "https://plot.ly"
       },
       "data": [
        {
         "alignmentgroup": "True",
         "hovertemplate": "País: %{x}<br>Total de cidades: %{y}",
         "legendgroup": "",
         "marker": {
          "color": [
           49,
           22,
           12,
           12,
           5,
           4,
           4,
           3,
           3,
           3,
           3,
           2,
           1,
           1,
           1
          ],
          "coloraxis": "coloraxis",
          "pattern": {
           "shape": ""
          }
         },
         "name": "",
         "offsetgroup": "",
         "orientation": "v",
         "showlegend": false,
         "textposition": "auto",
         "type": "bar",
         "x": [
          "India",
          "United States of America",
          "Philippines",
          "South Africa",
          "England",
          "New Zeland",
          "United Arab Emirates",
          "Australia",
          "Brazil",
          "Canada",
          "Indonesia",
          "Turkey",
          "Qatar",
          "Singapure",
          "Sri Lanka"
         ],
         "xaxis": "x",
         "y": [
          49,
          22,
          12,
          12,
          5,
          4,
          4,
          3,
          3,
          3,
          3,
          2,
          1,
          1,
          1
         ],
         "yaxis": "y"
        }
       ],
       "layout": {
        "barmode": "relative",
        "coloraxis": {
         "colorbar": {
          "title": {
           "text": "Total de cidades"
          }
         },
         "colorscale": [
          [
           0,
           "rgb(103,0,31)"
          ],
          [
           0.1,
           "rgb(178,24,43)"
          ],
          [
           0.2,
           "rgb(214,96,77)"
          ],
          [
           0.3,
           "rgb(244,165,130)"
          ],
          [
           0.4,
           "rgb(253,219,199)"
          ],
          [
           0.5,
           "rgb(255,255,255)"
          ],
          [
           0.6,
           "rgb(224,224,224)"
          ],
          [
           0.7,
           "rgb(186,186,186)"
          ],
          [
           0.8,
           "rgb(135,135,135)"
          ],
          [
           0.9,
           "rgb(77,77,77)"
          ],
          [
           1,
           "rgb(26,26,26)"
          ]
         ]
        },
        "font": {
         "color": "white"
        },
        "height": 600,
        "legend": {
         "tracegroupgap": 0
        },
        "paper_bgcolor": "rgb(70, 70, 70)",
        "plot_bgcolor": "rgb(70, 70, 70)",
        "showlegend": false,
        "template": {
         "data": {
          "candlestick": [
           {
            "decreasing": {
             "line": {
              "color": "#000033"
             }
            },
            "increasing": {
             "line": {
              "color": "#000032"
             }
            },
            "type": "candlestick"
           }
          ],
          "contour": [
           {
            "colorscale": [
             [
              0,
              "#000011"
             ],
             [
              0.1111111111111111,
              "#000012"
             ],
             [
              0.2222222222222222,
              "#000013"
             ],
             [
              0.3333333333333333,
              "#000014"
             ],
             [
              0.4444444444444444,
              "#000015"
             ],
             [
              0.5555555555555556,
              "#000016"
             ],
             [
              0.6666666666666666,
              "#000017"
             ],
             [
              0.7777777777777778,
              "#000018"
             ],
             [
              0.8888888888888888,
              "#000019"
             ],
             [
              1,
              "#000020"
             ]
            ],
            "type": "contour"
           }
          ],
          "contourcarpet": [
           {
            "colorscale": [
             [
              0,
              "#000011"
             ],
             [
              0.1111111111111111,
              "#000012"
             ],
             [
              0.2222222222222222,
              "#000013"
             ],
             [
              0.3333333333333333,
              "#000014"
             ],
             [
              0.4444444444444444,
              "#000015"
             ],
             [
              0.5555555555555556,
              "#000016"
             ],
             [
              0.6666666666666666,
              "#000017"
             ],
             [
              0.7777777777777778,
              "#000018"
             ],
             [
              0.8888888888888888,
              "#000019"
             ],
             [
              1,
              "#000020"
             ]
            ],
            "type": "contourcarpet"
           }
          ],
          "heatmap": [
           {
            "colorscale": [
             [
              0,
              "#000011"
             ],
             [
              0.1111111111111111,
              "#000012"
             ],
             [
              0.2222222222222222,
              "#000013"
             ],
             [
              0.3333333333333333,
              "#000014"
             ],
             [
              0.4444444444444444,
              "#000015"
             ],
             [
              0.5555555555555556,
              "#000016"
             ],
             [
              0.6666666666666666,
              "#000017"
             ],
             [
              0.7777777777777778,
              "#000018"
             ],
             [
              0.8888888888888888,
              "#000019"
             ],
             [
              1,
              "#000020"
             ]
            ],
            "type": "heatmap"
           }
          ],
          "histogram2d": [
           {
            "colorscale": [
             [
              0,
              "#000011"
             ],
             [
              0.1111111111111111,
              "#000012"
             ],
             [
              0.2222222222222222,
              "#000013"
             ],
             [
              0.3333333333333333,
              "#000014"
             ],
             [
              0.4444444444444444,
              "#000015"
             ],
             [
              0.5555555555555556,
              "#000016"
             ],
             [
              0.6666666666666666,
              "#000017"
             ],
             [
              0.7777777777777778,
              "#000018"
             ],
             [
              0.8888888888888888,
              "#000019"
             ],
             [
              1,
              "#000020"
             ]
            ],
            "type": "histogram2d"
           }
          ],
          "icicle": [
           {
            "textfont": {
             "color": "white"
            },
            "type": "icicle"
           }
          ],
          "sankey": [
           {
            "textfont": {
             "color": "#000036"
            },
            "type": "sankey"
           }
          ],
          "scatter": [
           {
            "marker": {
             "line": {
              "width": 0
             }
            },
            "type": "scatter"
           }
          ],
          "table": [
           {
            "cells": {
             "fill": {
              "color": "#000038"
             },
             "font": {
              "color": "#000037"
             },
             "line": {
              "color": "#000039"
             }
            },
            "header": {
             "fill": {
              "color": "#000040"
             },
             "font": {
              "color": "#000036"
             },
             "line": {
              "color": "#000039"
             }
            },
            "type": "table"
           }
          ],
          "waterfall": [
           {
            "connector": {
             "line": {
              "color": "#000036",
              "width": 2
             }
            },
            "decreasing": {
             "marker": {
              "color": "#000033"
             }
            },
            "increasing": {
             "marker": {
              "color": "#000032"
             }
            },
            "totals": {
             "marker": {
              "color": "#000034"
             }
            },
            "type": "waterfall"
           }
          ]
         },
         "layout": {
          "coloraxis": {
           "colorscale": [
            [
             0,
             "#000011"
            ],
            [
             0.1111111111111111,
             "#000012"
            ],
            [
             0.2222222222222222,
             "#000013"
            ],
            [
             0.3333333333333333,
             "#000014"
            ],
            [
             0.4444444444444444,
             "#000015"
            ],
            [
             0.5555555555555556,
             "#000016"
            ],
            [
             0.6666666666666666,
             "#000017"
            ],
            [
             0.7777777777777778,
             "#000018"
            ],
            [
             0.8888888888888888,
             "#000019"
            ],
            [
             1,
             "#000020"
            ]
           ]
          },
          "colorscale": {
           "diverging": [
            [
             0,
             "#000021"
            ],
            [
             0.1,
             "#000022"
            ],
            [
             0.2,
             "#000023"
            ],
            [
             0.3,
             "#000024"
            ],
            [
             0.4,
             "#000025"
            ],
            [
             0.5,
             "#000026"
            ],
            [
             0.6,
             "#000027"
            ],
            [
             0.7,
             "#000028"
            ],
            [
             0.8,
             "#000029"
            ],
            [
             0.9,
             "#000030"
            ],
            [
             1,
             "#000031"
            ]
           ],
           "sequential": [
            [
             0,
             "#000011"
            ],
            [
             0.1111111111111111,
             "#000012"
            ],
            [
             0.2222222222222222,
             "#000013"
            ],
            [
             0.3333333333333333,
             "#000014"
            ],
            [
             0.4444444444444444,
             "#000015"
            ],
            [
             0.5555555555555556,
             "#000016"
            ],
            [
             0.6666666666666666,
             "#000017"
            ],
            [
             0.7777777777777778,
             "#000018"
            ],
            [
             0.8888888888888888,
             "#000019"
            ],
            [
             1,
             "#000020"
            ]
           ],
           "sequentialminus": [
            [
             0,
             "#000011"
            ],
            [
             0.1111111111111111,
             "#000012"
            ],
            [
             0.2222222222222222,
             "#000013"
            ],
            [
             0.3333333333333333,
             "#000014"
            ],
            [
             0.4444444444444444,
             "#000015"
            ],
            [
             0.5555555555555556,
             "#000016"
            ],
            [
             0.6666666666666666,
             "#000017"
            ],
            [
             0.7777777777777778,
             "#000018"
            ],
            [
             0.8888888888888888,
             "#000019"
            ],
            [
             1,
             "#000020"
            ]
           ]
          },
          "colorway": [
           "#000001",
           "#000002",
           "#000003",
           "#000004",
           "#000005",
           "#000006",
           "#000007",
           "#000008",
           "#000009",
           "#000010"
          ]
         }
        },
        "title": {
         "text": "Total de cidades por país"
        },
        "width": 1000,
        "xaxis": {
         "anchor": "y",
         "domain": [
          0,
          1
         ],
         "tickangle": -45,
         "title": {
          "text": "Países"
         }
        },
        "yaxis": {
         "anchor": "x",
         "domain": [
          0,
          1
         ],
         "title": {
          "text": "Total de cidades"
         }
        }
       }
      }
     },
     "metadata": {},
     "output_type": "display_data"
    }
   ],
   "source": [
    "city_counts = df1.groupby('country')['city'].nunique().reset_index()\n",
    "city_counts.columns = ['country', 't_cities']\n",
    "city_counts = city_counts.sort_values('t_cities', ascending=False)\n",
    "\n",
    "fig = px.bar(city_counts, \n",
    "             x='country', \n",
    "             y='t_cities',\n",
    "             title='Total de cidades por país',\n",
    "             labels={'country': 'País', 't_cities': 'Total de cidades'},\n",
    "             color='t_cities',\n",
    "             color_continuous_scale='rdgy')\n",
    "fig.update_layout(\n",
    "    xaxis_title='Países',\n",
    "    yaxis_title='Total de cidades',\n",
    "    xaxis_tickangle=-45,\n",
    "    showlegend=False,\n",
    "    height=600,\n",
    "    width=1000,\n",
    "    plot_bgcolor='rgb(70, 70, 70)',\n",
    "    paper_bgcolor='rgb(70, 70, 70)',\n",
    "    font_color='white')\n",
    "fig.update_traces(hovertemplate='País: %{x}<br>Total de cidades: %{y}')\n",
    "fig.show()"
   ]
  },
  {
   "cell_type": "markdown",
   "metadata": {},
   "source": [
    "Qual o nome do país que possui mais restaurantes registrados?"
   ]
  },
  {
   "cell_type": "code",
   "execution_count": 32,
   "metadata": {},
   "outputs": [
    {
     "data": {
      "text/plain": [
       "'India'"
      ]
     },
     "execution_count": 32,
     "metadata": {},
     "output_type": "execute_result"
    }
   ],
   "source": [
    "#Qual o nome do país que possui mais restaurantes registrados?\n",
    "rest_counts = df1.groupby('country')['restaurant_id'].nunique().reset_index()\n",
    "rest_counts.columns = ['country', 't_restaurants']\n",
    "rest_counts = rest_counts.sort_values('t_restaurants', ascending=False)\n",
    "\n",
    "biggest_country = rest_counts.iloc[0]['country']\n",
    "\n",
    "biggest_country"
   ]
  },
  {
   "cell_type": "code",
   "execution_count": 11,
   "metadata": {},
   "outputs": [
    {
     "data": {
      "application/vnd.plotly.v1+json": {
       "config": {
        "plotlyServerURL": "https://plot.ly"
       },
       "data": [
        {
         "alignmentgroup": "True",
         "hovertemplate": "País: %{x}<br>Total de Restaurantes: %{y}",
         "legendgroup": "",
         "marker": {
          "color": [
           3120,
           1378,
           400,
           346,
           300,
           240,
           239,
           180,
           180,
           159,
           80,
           80,
           80,
           80,
           80
          ],
          "coloraxis": "coloraxis",
          "pattern": {
           "shape": ""
          }
         },
         "name": "",
         "offsetgroup": "",
         "orientation": "v",
         "showlegend": false,
         "textposition": "auto",
         "type": "bar",
         "x": [
          "India",
          "United States of America",
          "England",
          "South Africa",
          "United Arab Emirates",
          "Brazil",
          "New Zeland",
          "Australia",
          "Canada",
          "Turkey",
          "Indonesia",
          "Philippines",
          "Qatar",
          "Singapure",
          "Sri Lanka"
         ],
         "xaxis": "x",
         "y": [
          3120,
          1378,
          400,
          346,
          300,
          240,
          239,
          180,
          180,
          159,
          80,
          80,
          80,
          80,
          80
         ],
         "yaxis": "y"
        }
       ],
       "layout": {
        "barmode": "relative",
        "coloraxis": {
         "colorbar": {
          "title": {
           "text": "Total de restaurantes"
          }
         },
         "colorscale": [
          [
           0,
           "rgb(103,0,31)"
          ],
          [
           0.1,
           "rgb(178,24,43)"
          ],
          [
           0.2,
           "rgb(214,96,77)"
          ],
          [
           0.3,
           "rgb(244,165,130)"
          ],
          [
           0.4,
           "rgb(253,219,199)"
          ],
          [
           0.5,
           "rgb(255,255,255)"
          ],
          [
           0.6,
           "rgb(224,224,224)"
          ],
          [
           0.7,
           "rgb(186,186,186)"
          ],
          [
           0.8,
           "rgb(135,135,135)"
          ],
          [
           0.9,
           "rgb(77,77,77)"
          ],
          [
           1,
           "rgb(26,26,26)"
          ]
         ]
        },
        "font": {
         "color": "white"
        },
        "height": 600,
        "legend": {
         "tracegroupgap": 0
        },
        "paper_bgcolor": "rgb(70, 70, 70)",
        "plot_bgcolor": "rgb(70, 70, 70)",
        "showlegend": false,
        "template": {
         "data": {
          "candlestick": [
           {
            "decreasing": {
             "line": {
              "color": "#000033"
             }
            },
            "increasing": {
             "line": {
              "color": "#000032"
             }
            },
            "type": "candlestick"
           }
          ],
          "contour": [
           {
            "colorscale": [
             [
              0,
              "#000011"
             ],
             [
              0.1111111111111111,
              "#000012"
             ],
             [
              0.2222222222222222,
              "#000013"
             ],
             [
              0.3333333333333333,
              "#000014"
             ],
             [
              0.4444444444444444,
              "#000015"
             ],
             [
              0.5555555555555556,
              "#000016"
             ],
             [
              0.6666666666666666,
              "#000017"
             ],
             [
              0.7777777777777778,
              "#000018"
             ],
             [
              0.8888888888888888,
              "#000019"
             ],
             [
              1,
              "#000020"
             ]
            ],
            "type": "contour"
           }
          ],
          "contourcarpet": [
           {
            "colorscale": [
             [
              0,
              "#000011"
             ],
             [
              0.1111111111111111,
              "#000012"
             ],
             [
              0.2222222222222222,
              "#000013"
             ],
             [
              0.3333333333333333,
              "#000014"
             ],
             [
              0.4444444444444444,
              "#000015"
             ],
             [
              0.5555555555555556,
              "#000016"
             ],
             [
              0.6666666666666666,
              "#000017"
             ],
             [
              0.7777777777777778,
              "#000018"
             ],
             [
              0.8888888888888888,
              "#000019"
             ],
             [
              1,
              "#000020"
             ]
            ],
            "type": "contourcarpet"
           }
          ],
          "heatmap": [
           {
            "colorscale": [
             [
              0,
              "#000011"
             ],
             [
              0.1111111111111111,
              "#000012"
             ],
             [
              0.2222222222222222,
              "#000013"
             ],
             [
              0.3333333333333333,
              "#000014"
             ],
             [
              0.4444444444444444,
              "#000015"
             ],
             [
              0.5555555555555556,
              "#000016"
             ],
             [
              0.6666666666666666,
              "#000017"
             ],
             [
              0.7777777777777778,
              "#000018"
             ],
             [
              0.8888888888888888,
              "#000019"
             ],
             [
              1,
              "#000020"
             ]
            ],
            "type": "heatmap"
           }
          ],
          "histogram2d": [
           {
            "colorscale": [
             [
              0,
              "#000011"
             ],
             [
              0.1111111111111111,
              "#000012"
             ],
             [
              0.2222222222222222,
              "#000013"
             ],
             [
              0.3333333333333333,
              "#000014"
             ],
             [
              0.4444444444444444,
              "#000015"
             ],
             [
              0.5555555555555556,
              "#000016"
             ],
             [
              0.6666666666666666,
              "#000017"
             ],
             [
              0.7777777777777778,
              "#000018"
             ],
             [
              0.8888888888888888,
              "#000019"
             ],
             [
              1,
              "#000020"
             ]
            ],
            "type": "histogram2d"
           }
          ],
          "icicle": [
           {
            "textfont": {
             "color": "white"
            },
            "type": "icicle"
           }
          ],
          "sankey": [
           {
            "textfont": {
             "color": "#000036"
            },
            "type": "sankey"
           }
          ],
          "scatter": [
           {
            "marker": {
             "line": {
              "width": 0
             }
            },
            "type": "scatter"
           }
          ],
          "table": [
           {
            "cells": {
             "fill": {
              "color": "#000038"
             },
             "font": {
              "color": "#000037"
             },
             "line": {
              "color": "#000039"
             }
            },
            "header": {
             "fill": {
              "color": "#000040"
             },
             "font": {
              "color": "#000036"
             },
             "line": {
              "color": "#000039"
             }
            },
            "type": "table"
           }
          ],
          "waterfall": [
           {
            "connector": {
             "line": {
              "color": "#000036",
              "width": 2
             }
            },
            "decreasing": {
             "marker": {
              "color": "#000033"
             }
            },
            "increasing": {
             "marker": {
              "color": "#000032"
             }
            },
            "totals": {
             "marker": {
              "color": "#000034"
             }
            },
            "type": "waterfall"
           }
          ]
         },
         "layout": {
          "coloraxis": {
           "colorscale": [
            [
             0,
             "#000011"
            ],
            [
             0.1111111111111111,
             "#000012"
            ],
            [
             0.2222222222222222,
             "#000013"
            ],
            [
             0.3333333333333333,
             "#000014"
            ],
            [
             0.4444444444444444,
             "#000015"
            ],
            [
             0.5555555555555556,
             "#000016"
            ],
            [
             0.6666666666666666,
             "#000017"
            ],
            [
             0.7777777777777778,
             "#000018"
            ],
            [
             0.8888888888888888,
             "#000019"
            ],
            [
             1,
             "#000020"
            ]
           ]
          },
          "colorscale": {
           "diverging": [
            [
             0,
             "#000021"
            ],
            [
             0.1,
             "#000022"
            ],
            [
             0.2,
             "#000023"
            ],
            [
             0.3,
             "#000024"
            ],
            [
             0.4,
             "#000025"
            ],
            [
             0.5,
             "#000026"
            ],
            [
             0.6,
             "#000027"
            ],
            [
             0.7,
             "#000028"
            ],
            [
             0.8,
             "#000029"
            ],
            [
             0.9,
             "#000030"
            ],
            [
             1,
             "#000031"
            ]
           ],
           "sequential": [
            [
             0,
             "#000011"
            ],
            [
             0.1111111111111111,
             "#000012"
            ],
            [
             0.2222222222222222,
             "#000013"
            ],
            [
             0.3333333333333333,
             "#000014"
            ],
            [
             0.4444444444444444,
             "#000015"
            ],
            [
             0.5555555555555556,
             "#000016"
            ],
            [
             0.6666666666666666,
             "#000017"
            ],
            [
             0.7777777777777778,
             "#000018"
            ],
            [
             0.8888888888888888,
             "#000019"
            ],
            [
             1,
             "#000020"
            ]
           ],
           "sequentialminus": [
            [
             0,
             "#000011"
            ],
            [
             0.1111111111111111,
             "#000012"
            ],
            [
             0.2222222222222222,
             "#000013"
            ],
            [
             0.3333333333333333,
             "#000014"
            ],
            [
             0.4444444444444444,
             "#000015"
            ],
            [
             0.5555555555555556,
             "#000016"
            ],
            [
             0.6666666666666666,
             "#000017"
            ],
            [
             0.7777777777777778,
             "#000018"
            ],
            [
             0.8888888888888888,
             "#000019"
            ],
            [
             1,
             "#000020"
            ]
           ]
          },
          "colorway": [
           "#000001",
           "#000002",
           "#000003",
           "#000004",
           "#000005",
           "#000006",
           "#000007",
           "#000008",
           "#000009",
           "#000010"
          ]
         }
        },
        "title": {
         "text": "Total de restaurantes por país"
        },
        "width": 1000,
        "xaxis": {
         "anchor": "y",
         "domain": [
          0,
          1
         ],
         "tickangle": -45,
         "title": {
          "text": "Países"
         }
        },
        "yaxis": {
         "anchor": "x",
         "domain": [
          0,
          1
         ],
         "title": {
          "text": "Total de restaurantes"
         }
        }
       }
      }
     },
     "metadata": {},
     "output_type": "display_data"
    }
   ],
   "source": [
    "#criar um grafico de barras com os países com mais restaurantes registrados\n",
    "rest_counts = df1.groupby('country')['restaurant_id'].nunique().reset_index()\n",
    "rest_counts.columns = ['country', 't_restaurants']\n",
    "rest_counts = rest_counts.sort_values('t_restaurants', ascending=False)\n",
    "\n",
    "fig = px.bar(rest_counts, \n",
    "             x='country', \n",
    "             y='t_restaurants',\n",
    "             title='Total de restaurantes por país',\n",
    "             labels={'country': 'País', 't_restaurants': 'Total de restaurantes'},\n",
    "             color='t_restaurants',\n",
    "             color_continuous_scale='rdgy')\n",
    "fig.update_layout(\n",
    "    xaxis_title='Países',\n",
    "    yaxis_title='Total de restaurantes',\n",
    "    xaxis_tickangle=-45,\n",
    "    showlegend=False,\n",
    "    height=600,\n",
    "    width=1000,\n",
    "    plot_bgcolor='rgb(70, 70, 70)',\n",
    "    paper_bgcolor='rgb(70, 70, 70)',\n",
    "    font_color='white')\n",
    "fig.update_traces(hovertemplate='País: %{x}<br>Total de restaurantes: %{y}')\n",
    "fig.show()"
   ]
  },
  {
   "cell_type": "markdown",
   "metadata": {},
   "source": [
    " Qual o nome do país que possui mais restaurantes com o nível de preço igual a 4\n",
    "registrados?"
   ]
  },
  {
   "cell_type": "code",
   "execution_count": 77,
   "metadata": {},
   "outputs": [
    {
     "data": {
      "text/plain": [
       "'United States of America'"
      ]
     },
     "execution_count": 77,
     "metadata": {},
     "output_type": "execute_result"
    }
   ],
   "source": [
    "# Qual o nome do país que possui mais restaurantes com o nível de preço igual a 4\n",
    "#registrados?\n",
    "pfour = df1['price_range'] == 4\n",
    "country_pfour = df1.loc[pfour, ['country', 'restaurant_id']].value_counts('country').reset_index()\n",
    "country_pfour = country_pfour.sort_values('count', ascending=False)\n",
    "biggest_country_pfour = country_pfour.iloc[0]['country']\n",
    "biggest_country_pfour\n"
   ]
  },
  {
   "cell_type": "markdown",
   "metadata": {},
   "source": [
    "Qual o nome do país que possui a maior quantidade de tipos de culinária\n",
    "distintos?"
   ]
  },
  {
   "cell_type": "code",
   "execution_count": 82,
   "metadata": {},
   "outputs": [
    {
     "data": {
      "text/plain": [
       "'India'"
      ]
     },
     "execution_count": 82,
     "metadata": {},
     "output_type": "execute_result"
    }
   ],
   "source": [
    "#Qual o nome do país que possui a maior quantidade de tipos de culinária\n",
    "#distintos?\n",
    "country_rest_counts = df1.groupby('country')['cuisines'].nunique().reset_index()\n",
    "country_rest_counts.columns = ['country', 't_cuisines']\n",
    "country_rest_counts = country_rest_counts.sort_values('t_cuisines', ascending=False)\n",
    "\n",
    "b_country_rest_counts = country_rest_counts.iloc[0]['country']\n",
    "\n",
    "b_country_rest_counts"
   ]
  },
  {
   "cell_type": "markdown",
   "metadata": {},
   "source": [
    "Qual o nome do país que possui a maior quantidade de avaliações feitas?"
   ]
  },
  {
   "cell_type": "code",
   "execution_count": 73,
   "metadata": {},
   "outputs": [
    {
     "data": {
      "text/plain": [
       "'India'"
      ]
     },
     "execution_count": 73,
     "metadata": {},
     "output_type": "execute_result"
    }
   ],
   "source": [
    "country_w_votes = df1.groupby('country')['votes'].sum().reset_index()\n",
    "country_w_votes.columns = ['country', 't_votes']\n",
    "country_w_votes = country_w_votes.sort_values('t_votes', ascending=False)\n",
    "\n",
    "b_country_w_votes = country_w_votes.iloc[0]['country']\n",
    "\n",
    "b_country_w_votes"
   ]
  },
  {
   "cell_type": "markdown",
   "metadata": {},
   "source": [
    "Qual o nome do país que possui a maior quantidade de restaurantes que fazem\n",
    "entrega?"
   ]
  },
  {
   "cell_type": "code",
   "execution_count": 129,
   "metadata": {},
   "outputs": [
    {
     "data": {
      "text/plain": [
       "'India'"
      ]
     },
     "execution_count": 129,
     "metadata": {},
     "output_type": "execute_result"
    }
   ],
   "source": [
    "#Qual o nome do país que possui a maior quantidade de restaurantes que fazem\n",
    "#entrega?\n",
    "delivery = df1['is_delivering_now'] == 1\n",
    "rest_delivery = df1.loc[delivery, ['country', 'restaurant_id']].value_counts('country').reset_index()\n",
    "b_country_rest_delivery = rest_delivery.iloc[0]['country']\n",
    "b_country_rest_delivery"
   ]
  },
  {
   "cell_type": "markdown",
   "metadata": {},
   "source": [
    "Qual o nome do país que possui a maior quantidade de restaurantes que aceitam\n",
    "reservas?"
   ]
  },
  {
   "cell_type": "code",
   "execution_count": 98,
   "metadata": {},
   "outputs": [
    {
     "data": {
      "text/plain": [
       "'India'"
      ]
     },
     "execution_count": 98,
     "metadata": {},
     "output_type": "execute_result"
    }
   ],
   "source": [
    "#Qual o nome do país que possui a maior quantidade de restaurantes que aceitam\n",
    "#reservas?\n",
    "rest_book = df1['has_table_booking'] == 1\n",
    "rest_book = df1.loc[rest_book, ['country', 'restaurant_id']].value_counts('country').reset_index()\n",
    "b_country_rest_book = rest_book.iloc[0]['country']\n",
    "b_country_rest_book"
   ]
  },
  {
   "cell_type": "markdown",
   "metadata": {},
   "source": [
    "Qual o nome do país que possui, na média, a maior quantidade de avaliações registrada?\n"
   ]
  },
  {
   "cell_type": "code",
   "execution_count": 77,
   "metadata": {},
   "outputs": [
    {
     "data": {
      "text/plain": [
       "'Indonesia'"
      ]
     },
     "execution_count": 77,
     "metadata": {},
     "output_type": "execute_result"
    }
   ],
   "source": [
    "#Qual o nome do país que possui, na média, a maior quantidade de avaliações registrada?\n",
    "country_w_votes = df1.groupby('country')['votes'].mean().reset_index()\n",
    "country_w_votes.columns = ['country', 't_votes']\n",
    "country_w_votes = country_w_votes.sort_values('t_votes', ascending=False)\n",
    "\n",
    "b_country_w_votes = country_w_votes.iloc[0]['country']\n",
    "\n",
    "b_country_w_votes"
   ]
  },
  {
   "cell_type": "code",
   "execution_count": 19,
   "metadata": {},
   "outputs": [
    {
     "data": {
      "application/vnd.plotly.v1+json": {
       "config": {
        "plotlyServerURL": "https://plot.ly"
       },
       "data": [
        {
         "alignmentgroup": "True",
         "hovertemplate": "País: %{x}<br>Média de avaliações recebidas: %{y}",
         "legendgroup": "",
         "marker": {
          "color": "darkred",
          "coloraxis": "coloraxis",
          "pattern": {
           "shape": ""
          }
         },
         "name": "",
         "offsetgroup": "",
         "orientation": "v",
         "showlegend": false,
         "textposition": "auto",
         "type": "bar",
         "x": [
          "Indonesia",
          "India",
          "Australia",
          "Turkey",
          "United Arab Emirates"
         ],
         "xaxis": "x",
         "y": [
          1115.32,
          905.36,
          724.21,
          643.1,
          614.3
         ],
         "yaxis": "y"
        }
       ],
       "layout": {
        "barmode": "relative",
        "coloraxis": {
         "colorbar": {
          "title": {
           "text": "Média de avaliações recebidas"
          }
         },
         "colorscale": [
          [
           0,
           "rgb(103,0,31)"
          ],
          [
           0.1,
           "rgb(178,24,43)"
          ],
          [
           0.2,
           "rgb(214,96,77)"
          ],
          [
           0.3,
           "rgb(244,165,130)"
          ],
          [
           0.4,
           "rgb(253,219,199)"
          ],
          [
           0.5,
           "rgb(255,255,255)"
          ],
          [
           0.6,
           "rgb(224,224,224)"
          ],
          [
           0.7,
           "rgb(186,186,186)"
          ],
          [
           0.8,
           "rgb(135,135,135)"
          ],
          [
           0.9,
           "rgb(77,77,77)"
          ],
          [
           1,
           "rgb(26,26,26)"
          ]
         ]
        },
        "font": {
         "color": "white"
        },
        "height": 600,
        "legend": {
         "tracegroupgap": 0
        },
        "paper_bgcolor": "rgb(70, 70, 70)",
        "plot_bgcolor": "rgb(70, 70, 70)",
        "showlegend": false,
        "template": {
         "data": {
          "candlestick": [
           {
            "decreasing": {
             "line": {
              "color": "#000033"
             }
            },
            "increasing": {
             "line": {
              "color": "#000032"
             }
            },
            "type": "candlestick"
           }
          ],
          "contour": [
           {
            "colorscale": [
             [
              0,
              "#000011"
             ],
             [
              0.1111111111111111,
              "#000012"
             ],
             [
              0.2222222222222222,
              "#000013"
             ],
             [
              0.3333333333333333,
              "#000014"
             ],
             [
              0.4444444444444444,
              "#000015"
             ],
             [
              0.5555555555555556,
              "#000016"
             ],
             [
              0.6666666666666666,
              "#000017"
             ],
             [
              0.7777777777777778,
              "#000018"
             ],
             [
              0.8888888888888888,
              "#000019"
             ],
             [
              1,
              "#000020"
             ]
            ],
            "type": "contour"
           }
          ],
          "contourcarpet": [
           {
            "colorscale": [
             [
              0,
              "#000011"
             ],
             [
              0.1111111111111111,
              "#000012"
             ],
             [
              0.2222222222222222,
              "#000013"
             ],
             [
              0.3333333333333333,
              "#000014"
             ],
             [
              0.4444444444444444,
              "#000015"
             ],
             [
              0.5555555555555556,
              "#000016"
             ],
             [
              0.6666666666666666,
              "#000017"
             ],
             [
              0.7777777777777778,
              "#000018"
             ],
             [
              0.8888888888888888,
              "#000019"
             ],
             [
              1,
              "#000020"
             ]
            ],
            "type": "contourcarpet"
           }
          ],
          "heatmap": [
           {
            "colorscale": [
             [
              0,
              "#000011"
             ],
             [
              0.1111111111111111,
              "#000012"
             ],
             [
              0.2222222222222222,
              "#000013"
             ],
             [
              0.3333333333333333,
              "#000014"
             ],
             [
              0.4444444444444444,
              "#000015"
             ],
             [
              0.5555555555555556,
              "#000016"
             ],
             [
              0.6666666666666666,
              "#000017"
             ],
             [
              0.7777777777777778,
              "#000018"
             ],
             [
              0.8888888888888888,
              "#000019"
             ],
             [
              1,
              "#000020"
             ]
            ],
            "type": "heatmap"
           }
          ],
          "histogram2d": [
           {
            "colorscale": [
             [
              0,
              "#000011"
             ],
             [
              0.1111111111111111,
              "#000012"
             ],
             [
              0.2222222222222222,
              "#000013"
             ],
             [
              0.3333333333333333,
              "#000014"
             ],
             [
              0.4444444444444444,
              "#000015"
             ],
             [
              0.5555555555555556,
              "#000016"
             ],
             [
              0.6666666666666666,
              "#000017"
             ],
             [
              0.7777777777777778,
              "#000018"
             ],
             [
              0.8888888888888888,
              "#000019"
             ],
             [
              1,
              "#000020"
             ]
            ],
            "type": "histogram2d"
           }
          ],
          "icicle": [
           {
            "textfont": {
             "color": "white"
            },
            "type": "icicle"
           }
          ],
          "sankey": [
           {
            "textfont": {
             "color": "#000036"
            },
            "type": "sankey"
           }
          ],
          "scatter": [
           {
            "marker": {
             "line": {
              "width": 0
             }
            },
            "type": "scatter"
           }
          ],
          "table": [
           {
            "cells": {
             "fill": {
              "color": "#000038"
             },
             "font": {
              "color": "#000037"
             },
             "line": {
              "color": "#000039"
             }
            },
            "header": {
             "fill": {
              "color": "#000040"
             },
             "font": {
              "color": "#000036"
             },
             "line": {
              "color": "#000039"
             }
            },
            "type": "table"
           }
          ],
          "waterfall": [
           {
            "connector": {
             "line": {
              "color": "#000036",
              "width": 2
             }
            },
            "decreasing": {
             "marker": {
              "color": "#000033"
             }
            },
            "increasing": {
             "marker": {
              "color": "#000032"
             }
            },
            "totals": {
             "marker": {
              "color": "#000034"
             }
            },
            "type": "waterfall"
           }
          ]
         },
         "layout": {
          "coloraxis": {
           "colorscale": [
            [
             0,
             "#000011"
            ],
            [
             0.1111111111111111,
             "#000012"
            ],
            [
             0.2222222222222222,
             "#000013"
            ],
            [
             0.3333333333333333,
             "#000014"
            ],
            [
             0.4444444444444444,
             "#000015"
            ],
            [
             0.5555555555555556,
             "#000016"
            ],
            [
             0.6666666666666666,
             "#000017"
            ],
            [
             0.7777777777777778,
             "#000018"
            ],
            [
             0.8888888888888888,
             "#000019"
            ],
            [
             1,
             "#000020"
            ]
           ]
          },
          "colorscale": {
           "diverging": [
            [
             0,
             "#000021"
            ],
            [
             0.1,
             "#000022"
            ],
            [
             0.2,
             "#000023"
            ],
            [
             0.3,
             "#000024"
            ],
            [
             0.4,
             "#000025"
            ],
            [
             0.5,
             "#000026"
            ],
            [
             0.6,
             "#000027"
            ],
            [
             0.7,
             "#000028"
            ],
            [
             0.8,
             "#000029"
            ],
            [
             0.9,
             "#000030"
            ],
            [
             1,
             "#000031"
            ]
           ],
           "sequential": [
            [
             0,
             "#000011"
            ],
            [
             0.1111111111111111,
             "#000012"
            ],
            [
             0.2222222222222222,
             "#000013"
            ],
            [
             0.3333333333333333,
             "#000014"
            ],
            [
             0.4444444444444444,
             "#000015"
            ],
            [
             0.5555555555555556,
             "#000016"
            ],
            [
             0.6666666666666666,
             "#000017"
            ],
            [
             0.7777777777777778,
             "#000018"
            ],
            [
             0.8888888888888888,
             "#000019"
            ],
            [
             1,
             "#000020"
            ]
           ],
           "sequentialminus": [
            [
             0,
             "#000011"
            ],
            [
             0.1111111111111111,
             "#000012"
            ],
            [
             0.2222222222222222,
             "#000013"
            ],
            [
             0.3333333333333333,
             "#000014"
            ],
            [
             0.4444444444444444,
             "#000015"
            ],
            [
             0.5555555555555556,
             "#000016"
            ],
            [
             0.6666666666666666,
             "#000017"
            ],
            [
             0.7777777777777778,
             "#000018"
            ],
            [
             0.8888888888888888,
             "#000019"
            ],
            [
             1,
             "#000020"
            ]
           ]
          },
          "colorway": [
           "#000001",
           "#000002",
           "#000003",
           "#000004",
           "#000005",
           "#000006",
           "#000007",
           "#000008",
           "#000009",
           "#000010"
          ]
         }
        },
        "title": {
         "text": "5 países com melhor média de avaliações recebidas"
        },
        "width": 500,
        "xaxis": {
         "anchor": "y",
         "domain": [
          0,
          1
         ],
         "tickangle": -45,
         "title": {
          "text": "Países"
         }
        },
        "yaxis": {
         "anchor": "x",
         "domain": [
          0,
          1
         ],
         "title": {
          "text": "Média de avaliações recebidas"
         }
        }
       }
      }
     },
     "metadata": {},
     "output_type": "display_data"
    }
   ],
   "source": [
    "#criar um grafico de barras com os 5 paises que possuem a maior media de avaliações recebidas\n",
    "country_w_votes = df1.groupby('country')['votes'].mean().reset_index()\n",
    "country_w_votes.columns = ['country', 't_votes']\n",
    "country_w_votes = country_w_votes.sort_values('t_votes', ascending=False).round(2).head(5)\n",
    "\n",
    "fig = px.bar(country_w_votes, \n",
    "             x='country', \n",
    "             y='t_votes',\n",
    "             title='5 países com melhor média de avaliações recebidas',\n",
    "             labels={'country': 'País', 't_votes': 'Média de avaliações recebidas'},\n",
    "             color='t_votes',\n",
    "             color_continuous_scale='rdgy')\n",
    "fig.update_traces(marker=dict(color='darkred'))\n",
    "fig.update_layout(\n",
    "    xaxis_title='Países',\n",
    "    yaxis_title='Média de avaliações recebidas',\n",
    "    xaxis_tickangle=-45,\n",
    "    showlegend=False,\n",
    "    height=600,\n",
    "    width=500,\n",
    "    plot_bgcolor='rgb(70, 70, 70)',\n",
    "    paper_bgcolor='rgb(70, 70, 70)',\n",
    "    font_color='white')\n",
    "fig.update_traces(hovertemplate='País: %{x}<br>Média de avaliações recebidas: %{y}')\n",
    "fig.show()"
   ]
  },
  {
   "cell_type": "markdown",
   "metadata": {},
   "source": [
    "Qual o nome do país que possui, na média, a maior nota média registrada?"
   ]
  },
  {
   "cell_type": "code",
   "execution_count": 43,
   "metadata": {},
   "outputs": [
    {
     "data": {
      "text/html": [
       "<div>\n",
       "<style scoped>\n",
       "    .dataframe tbody tr th:only-of-type {\n",
       "        vertical-align: middle;\n",
       "    }\n",
       "\n",
       "    .dataframe tbody tr th {\n",
       "        vertical-align: top;\n",
       "    }\n",
       "\n",
       "    .dataframe thead th {\n",
       "        text-align: right;\n",
       "    }\n",
       "</style>\n",
       "<table border=\"1\" class=\"dataframe\">\n",
       "  <thead>\n",
       "    <tr style=\"text-align: right;\">\n",
       "      <th></th>\n",
       "      <th>country</th>\n",
       "      <th>city</th>\n",
       "      <th>votes</th>\n",
       "    </tr>\n",
       "  </thead>\n",
       "  <tbody>\n",
       "    <tr>\n",
       "      <th>19</th>\n",
       "      <td>India</td>\n",
       "      <td>Bangalore</td>\n",
       "      <td>4295.0</td>\n",
       "    </tr>\n",
       "    <tr>\n",
       "      <th>65</th>\n",
       "      <td>Indonesia</td>\n",
       "      <td>Tangerang</td>\n",
       "      <td>1980.0</td>\n",
       "    </tr>\n",
       "    <tr>\n",
       "      <th>100</th>\n",
       "      <td>United Arab Emirates</td>\n",
       "      <td>Dubai</td>\n",
       "      <td>1236.0</td>\n",
       "    </tr>\n",
       "    <tr>\n",
       "      <th>75</th>\n",
       "      <td>Philippines</td>\n",
       "      <td>Muntinlupa City</td>\n",
       "      <td>1171.0</td>\n",
       "    </tr>\n",
       "    <tr>\n",
       "      <th>98</th>\n",
       "      <td>Turkey</td>\n",
       "      <td>İstanbul</td>\n",
       "      <td>1096.0</td>\n",
       "    </tr>\n",
       "    <tr>\n",
       "      <th>2</th>\n",
       "      <td>Australia</td>\n",
       "      <td>Perth</td>\n",
       "      <td>1019.0</td>\n",
       "    </tr>\n",
       "    <tr>\n",
       "      <th>123</th>\n",
       "      <td>United States of America</td>\n",
       "      <td>Seattle</td>\n",
       "      <td>883.0</td>\n",
       "    </tr>\n",
       "    <tr>\n",
       "      <th>6</th>\n",
       "      <td>Canada</td>\n",
       "      <td>Calgary</td>\n",
       "      <td>792.0</td>\n",
       "    </tr>\n",
       "    <tr>\n",
       "      <th>89</th>\n",
       "      <td>South Africa</td>\n",
       "      <td>Johannesburg</td>\n",
       "      <td>530.0</td>\n",
       "    </tr>\n",
       "    <tr>\n",
       "      <th>66</th>\n",
       "      <td>New Zeland</td>\n",
       "      <td>Auckland</td>\n",
       "      <td>452.0</td>\n",
       "    </tr>\n",
       "    <tr>\n",
       "      <th>82</th>\n",
       "      <td>Qatar</td>\n",
       "      <td>Doha</td>\n",
       "      <td>375.0</td>\n",
       "    </tr>\n",
       "    <tr>\n",
       "      <th>12</th>\n",
       "      <td>England</td>\n",
       "      <td>London</td>\n",
       "      <td>325.0</td>\n",
       "    </tr>\n",
       "    <tr>\n",
       "      <th>96</th>\n",
       "      <td>Sri Lanka</td>\n",
       "      <td>Colombo</td>\n",
       "      <td>153.0</td>\n",
       "    </tr>\n",
       "    <tr>\n",
       "      <th>83</th>\n",
       "      <td>Singapure</td>\n",
       "      <td>Singapore</td>\n",
       "      <td>23.0</td>\n",
       "    </tr>\n",
       "    <tr>\n",
       "      <th>5</th>\n",
       "      <td>Brazil</td>\n",
       "      <td>São Paulo</td>\n",
       "      <td>18.0</td>\n",
       "    </tr>\n",
       "  </tbody>\n",
       "</table>\n",
       "</div>"
      ],
      "text/plain": [
       "                      country             city   votes\n",
       "19                      India        Bangalore  4295.0\n",
       "65                  Indonesia        Tangerang  1980.0\n",
       "100      United Arab Emirates            Dubai  1236.0\n",
       "75                Philippines  Muntinlupa City  1171.0\n",
       "98                     Turkey         İstanbul  1096.0\n",
       "2                   Australia            Perth  1019.0\n",
       "123  United States of America          Seattle   883.0\n",
       "6                      Canada          Calgary   792.0\n",
       "89               South Africa     Johannesburg   530.0\n",
       "66                 New Zeland         Auckland   452.0\n",
       "82                      Qatar             Doha   375.0\n",
       "12                    England           London   325.0\n",
       "96                  Sri Lanka          Colombo   153.0\n",
       "83                  Singapure        Singapore    23.0\n",
       "5                      Brazil        São Paulo    18.0"
      ]
     },
     "execution_count": 43,
     "metadata": {},
     "output_type": "execute_result"
    }
   ],
   "source": [
    "city_mean_best = df1.loc[:, ['country', 'city', 'votes']].groupby(['country','city']).agg({'votes': 'mean'}).reset_index().sort_values('votes', ascending=False).round(0)\n",
    "city_mean_best = city_mean_best.groupby('country').head(1)\n",
    "city_mean_best"
   ]
  },
  {
   "cell_type": "code",
   "execution_count": 92,
   "metadata": {},
   "outputs": [
    {
     "data": {
      "text/plain": [
       "'Indonesia'"
      ]
     },
     "execution_count": 92,
     "metadata": {},
     "output_type": "execute_result"
    }
   ],
   "source": [
    "nozero = df1['aggregate_rating'] != 0\n",
    "country_mean_best = df1.loc[nozero, ['country', 'aggregate_rating']].groupby('country').agg({'aggregate_rating': 'mean'}).reset_index().sort_values('aggregate_rating', ascending=False)\n",
    "b_country_mean_best = country_mean_best.iloc[0]['country']\n",
    "b_country_mean_best"
   ]
  },
  {
   "cell_type": "code",
   "execution_count": 20,
   "metadata": {},
   "outputs": [
    {
     "data": {
      "application/vnd.plotly.v1+json": {
       "config": {
        "plotlyServerURL": "https://plot.ly"
       },
       "data": [
        {
         "alignmentgroup": "True",
         "hovertemplate": "País: %{x}<br>Nota média: %{y}",
         "legendgroup": "",
         "marker": {
          "color": "darkred",
          "coloraxis": "coloraxis",
          "pattern": {
           "shape": ""
          }
         },
         "name": "",
         "offsetgroup": "",
         "orientation": "v",
         "showlegend": false,
         "textposition": "auto",
         "type": "bar",
         "x": [
          "Indonesia",
          "Philippines",
          "Singapure",
          "United States of America",
          "Australia"
         ],
         "xaxis": "x",
         "y": [
          4.6,
          4.46,
          4.43,
          4.4,
          4.37
         ],
         "yaxis": "y"
        }
       ],
       "layout": {
        "barmode": "relative",
        "coloraxis": {
         "colorbar": {
          "title": {
           "text": "Nota média"
          }
         },
         "colorscale": [
          [
           0,
           "rgb(103,0,31)"
          ],
          [
           0.1,
           "rgb(178,24,43)"
          ],
          [
           0.2,
           "rgb(214,96,77)"
          ],
          [
           0.3,
           "rgb(244,165,130)"
          ],
          [
           0.4,
           "rgb(253,219,199)"
          ],
          [
           0.5,
           "rgb(255,255,255)"
          ],
          [
           0.6,
           "rgb(224,224,224)"
          ],
          [
           0.7,
           "rgb(186,186,186)"
          ],
          [
           0.8,
           "rgb(135,135,135)"
          ],
          [
           0.9,
           "rgb(77,77,77)"
          ],
          [
           1,
           "rgb(26,26,26)"
          ]
         ]
        },
        "font": {
         "color": "white"
        },
        "height": 600,
        "legend": {
         "tracegroupgap": 0
        },
        "paper_bgcolor": "rgb(70, 70, 70)",
        "plot_bgcolor": "rgb(70, 70, 70)",
        "showlegend": false,
        "template": {
         "data": {
          "candlestick": [
           {
            "decreasing": {
             "line": {
              "color": "#000033"
             }
            },
            "increasing": {
             "line": {
              "color": "#000032"
             }
            },
            "type": "candlestick"
           }
          ],
          "contour": [
           {
            "colorscale": [
             [
              0,
              "#000011"
             ],
             [
              0.1111111111111111,
              "#000012"
             ],
             [
              0.2222222222222222,
              "#000013"
             ],
             [
              0.3333333333333333,
              "#000014"
             ],
             [
              0.4444444444444444,
              "#000015"
             ],
             [
              0.5555555555555556,
              "#000016"
             ],
             [
              0.6666666666666666,
              "#000017"
             ],
             [
              0.7777777777777778,
              "#000018"
             ],
             [
              0.8888888888888888,
              "#000019"
             ],
             [
              1,
              "#000020"
             ]
            ],
            "type": "contour"
           }
          ],
          "contourcarpet": [
           {
            "colorscale": [
             [
              0,
              "#000011"
             ],
             [
              0.1111111111111111,
              "#000012"
             ],
             [
              0.2222222222222222,
              "#000013"
             ],
             [
              0.3333333333333333,
              "#000014"
             ],
             [
              0.4444444444444444,
              "#000015"
             ],
             [
              0.5555555555555556,
              "#000016"
             ],
             [
              0.6666666666666666,
              "#000017"
             ],
             [
              0.7777777777777778,
              "#000018"
             ],
             [
              0.8888888888888888,
              "#000019"
             ],
             [
              1,
              "#000020"
             ]
            ],
            "type": "contourcarpet"
           }
          ],
          "heatmap": [
           {
            "colorscale": [
             [
              0,
              "#000011"
             ],
             [
              0.1111111111111111,
              "#000012"
             ],
             [
              0.2222222222222222,
              "#000013"
             ],
             [
              0.3333333333333333,
              "#000014"
             ],
             [
              0.4444444444444444,
              "#000015"
             ],
             [
              0.5555555555555556,
              "#000016"
             ],
             [
              0.6666666666666666,
              "#000017"
             ],
             [
              0.7777777777777778,
              "#000018"
             ],
             [
              0.8888888888888888,
              "#000019"
             ],
             [
              1,
              "#000020"
             ]
            ],
            "type": "heatmap"
           }
          ],
          "histogram2d": [
           {
            "colorscale": [
             [
              0,
              "#000011"
             ],
             [
              0.1111111111111111,
              "#000012"
             ],
             [
              0.2222222222222222,
              "#000013"
             ],
             [
              0.3333333333333333,
              "#000014"
             ],
             [
              0.4444444444444444,
              "#000015"
             ],
             [
              0.5555555555555556,
              "#000016"
             ],
             [
              0.6666666666666666,
              "#000017"
             ],
             [
              0.7777777777777778,
              "#000018"
             ],
             [
              0.8888888888888888,
              "#000019"
             ],
             [
              1,
              "#000020"
             ]
            ],
            "type": "histogram2d"
           }
          ],
          "icicle": [
           {
            "textfont": {
             "color": "white"
            },
            "type": "icicle"
           }
          ],
          "sankey": [
           {
            "textfont": {
             "color": "#000036"
            },
            "type": "sankey"
           }
          ],
          "scatter": [
           {
            "marker": {
             "line": {
              "width": 0
             }
            },
            "type": "scatter"
           }
          ],
          "table": [
           {
            "cells": {
             "fill": {
              "color": "#000038"
             },
             "font": {
              "color": "#000037"
             },
             "line": {
              "color": "#000039"
             }
            },
            "header": {
             "fill": {
              "color": "#000040"
             },
             "font": {
              "color": "#000036"
             },
             "line": {
              "color": "#000039"
             }
            },
            "type": "table"
           }
          ],
          "waterfall": [
           {
            "connector": {
             "line": {
              "color": "#000036",
              "width": 2
             }
            },
            "decreasing": {
             "marker": {
              "color": "#000033"
             }
            },
            "increasing": {
             "marker": {
              "color": "#000032"
             }
            },
            "totals": {
             "marker": {
              "color": "#000034"
             }
            },
            "type": "waterfall"
           }
          ]
         },
         "layout": {
          "coloraxis": {
           "colorscale": [
            [
             0,
             "#000011"
            ],
            [
             0.1111111111111111,
             "#000012"
            ],
            [
             0.2222222222222222,
             "#000013"
            ],
            [
             0.3333333333333333,
             "#000014"
            ],
            [
             0.4444444444444444,
             "#000015"
            ],
            [
             0.5555555555555556,
             "#000016"
            ],
            [
             0.6666666666666666,
             "#000017"
            ],
            [
             0.7777777777777778,
             "#000018"
            ],
            [
             0.8888888888888888,
             "#000019"
            ],
            [
             1,
             "#000020"
            ]
           ]
          },
          "colorscale": {
           "diverging": [
            [
             0,
             "#000021"
            ],
            [
             0.1,
             "#000022"
            ],
            [
             0.2,
             "#000023"
            ],
            [
             0.3,
             "#000024"
            ],
            [
             0.4,
             "#000025"
            ],
            [
             0.5,
             "#000026"
            ],
            [
             0.6,
             "#000027"
            ],
            [
             0.7,
             "#000028"
            ],
            [
             0.8,
             "#000029"
            ],
            [
             0.9,
             "#000030"
            ],
            [
             1,
             "#000031"
            ]
           ],
           "sequential": [
            [
             0,
             "#000011"
            ],
            [
             0.1111111111111111,
             "#000012"
            ],
            [
             0.2222222222222222,
             "#000013"
            ],
            [
             0.3333333333333333,
             "#000014"
            ],
            [
             0.4444444444444444,
             "#000015"
            ],
            [
             0.5555555555555556,
             "#000016"
            ],
            [
             0.6666666666666666,
             "#000017"
            ],
            [
             0.7777777777777778,
             "#000018"
            ],
            [
             0.8888888888888888,
             "#000019"
            ],
            [
             1,
             "#000020"
            ]
           ],
           "sequentialminus": [
            [
             0,
             "#000011"
            ],
            [
             0.1111111111111111,
             "#000012"
            ],
            [
             0.2222222222222222,
             "#000013"
            ],
            [
             0.3333333333333333,
             "#000014"
            ],
            [
             0.4444444444444444,
             "#000015"
            ],
            [
             0.5555555555555556,
             "#000016"
            ],
            [
             0.6666666666666666,
             "#000017"
            ],
            [
             0.7777777777777778,
             "#000018"
            ],
            [
             0.8888888888888888,
             "#000019"
            ],
            [
             1,
             "#000020"
            ]
           ]
          },
          "colorway": [
           "#000001",
           "#000002",
           "#000003",
           "#000004",
           "#000005",
           "#000006",
           "#000007",
           "#000008",
           "#000009",
           "#000010"
          ]
         }
        },
        "title": {
         "text": "5 países com a melhor nota média"
        },
        "width": 500,
        "xaxis": {
         "anchor": "y",
         "domain": [
          0,
          1
         ],
         "tickangle": -45,
         "title": {
          "text": "Países"
         }
        },
        "yaxis": {
         "anchor": "x",
         "domain": [
          0,
          1
         ],
         "title": {
          "text": "Nota média"
         }
        }
       }
      }
     },
     "metadata": {},
     "output_type": "display_data"
    }
   ],
   "source": [
    "#Criar um grafico de barras com os 5 países com as melhores notas medias \n",
    "nozero = df1['aggregate_rating'] != 0\n",
    "country_mean_best = df1.loc[nozero, ['country', 'aggregate_rating']].groupby('country').agg({'aggregate_rating': 'mean'}).reset_index().sort_values('aggregate_rating', ascending=False).round(2).head(5)\n",
    "\n",
    "fig = px.bar(country_mean_best, \n",
    "             x='country', \n",
    "             y='aggregate_rating',\n",
    "             title='5 países com a melhor nota média',\n",
    "             labels={'country': 'País', 'aggregate_rating': 'Nota média'},\n",
    "             color='aggregate_rating',\n",
    "             color_continuous_scale='rdgy')\n",
    "fig.update_traces(marker=dict(color='darkred'))\n",
    "fig.update_layout(\n",
    "    xaxis_title='Países',\n",
    "    yaxis_title='Nota média',\n",
    "    xaxis_tickangle=-45,\n",
    "    showlegend=False,\n",
    "    height=600,\n",
    "    width=500,\n",
    "    plot_bgcolor='rgb(70, 70, 70)',\n",
    "    paper_bgcolor='rgb(70, 70, 70)',\n",
    "    font_color='white')\n",
    "fig.update_traces(hovertemplate='País: %{x}<br>Nota média: %{y}')\n",
    "fig.show()"
   ]
  },
  {
   "cell_type": "markdown",
   "metadata": {},
   "source": [
    "Qual o nome do país que possui, na média, a menor nota média registrada?"
   ]
  },
  {
   "cell_type": "code",
   "execution_count": 91,
   "metadata": {},
   "outputs": [
    {
     "data": {
      "text/plain": [
       "'Brazil'"
      ]
     },
     "execution_count": 91,
     "metadata": {},
     "output_type": "execute_result"
    }
   ],
   "source": [
    "nozero = df1['aggregate_rating'] != 0\n",
    "country_mean_last = df1.loc[nozero, ['country', 'aggregate_rating']].groupby('country').agg({'aggregate_rating': 'mean'}).reset_index().sort_values('aggregate_rating', ascending=True)\n",
    "b_country_mean_last = country_mean_last.iloc[0]['country']\n",
    "b_country_mean_last"
   ]
  },
  {
   "cell_type": "markdown",
   "metadata": {},
   "source": [
    "Qual a média de preço de um prato para dois por país?"
   ]
  },
  {
   "cell_type": "code",
   "execution_count": 11,
   "metadata": {},
   "outputs": [
    {
     "data": {
      "text/html": [
       "<div>\n",
       "<style scoped>\n",
       "    .dataframe tbody tr th:only-of-type {\n",
       "        vertical-align: middle;\n",
       "    }\n",
       "\n",
       "    .dataframe tbody tr th {\n",
       "        vertical-align: top;\n",
       "    }\n",
       "\n",
       "    .dataframe thead th {\n",
       "        text-align: right;\n",
       "    }\n",
       "</style>\n",
       "<table border=\"1\" class=\"dataframe\">\n",
       "  <thead>\n",
       "    <tr style=\"text-align: right;\">\n",
       "      <th></th>\n",
       "      <th>country</th>\n",
       "      <th>average_cost_for_two</th>\n",
       "    </tr>\n",
       "  </thead>\n",
       "  <tbody>\n",
       "    <tr>\n",
       "      <th>5</th>\n",
       "      <td>Indonesia</td>\n",
       "      <td>312682.93</td>\n",
       "    </tr>\n",
       "    <tr>\n",
       "      <th>0</th>\n",
       "      <td>Australia</td>\n",
       "      <td>138959.78</td>\n",
       "    </tr>\n",
       "    <tr>\n",
       "      <th>11</th>\n",
       "      <td>Sri Lanka</td>\n",
       "      <td>2607.47</td>\n",
       "    </tr>\n",
       "    <tr>\n",
       "      <th>7</th>\n",
       "      <td>Philippines</td>\n",
       "      <td>1211.09</td>\n",
       "    </tr>\n",
       "    <tr>\n",
       "      <th>4</th>\n",
       "      <td>India</td>\n",
       "      <td>702.30</td>\n",
       "    </tr>\n",
       "    <tr>\n",
       "      <th>10</th>\n",
       "      <td>South Africa</td>\n",
       "      <td>335.48</td>\n",
       "    </tr>\n",
       "    <tr>\n",
       "      <th>8</th>\n",
       "      <td>Qatar</td>\n",
       "      <td>176.65</td>\n",
       "    </tr>\n",
       "    <tr>\n",
       "      <th>13</th>\n",
       "      <td>United Arab Emirates</td>\n",
       "      <td>158.22</td>\n",
       "    </tr>\n",
       "    <tr>\n",
       "      <th>9</th>\n",
       "      <td>Singapure</td>\n",
       "      <td>141.04</td>\n",
       "    </tr>\n",
       "    <tr>\n",
       "      <th>1</th>\n",
       "      <td>Brazil</td>\n",
       "      <td>137.38</td>\n",
       "    </tr>\n",
       "    <tr>\n",
       "      <th>12</th>\n",
       "      <td>Turkey</td>\n",
       "      <td>128.85</td>\n",
       "    </tr>\n",
       "    <tr>\n",
       "      <th>6</th>\n",
       "      <td>New Zeland</td>\n",
       "      <td>61.44</td>\n",
       "    </tr>\n",
       "    <tr>\n",
       "      <th>14</th>\n",
       "      <td>United States of America</td>\n",
       "      <td>54.92</td>\n",
       "    </tr>\n",
       "    <tr>\n",
       "      <th>3</th>\n",
       "      <td>England</td>\n",
       "      <td>43.05</td>\n",
       "    </tr>\n",
       "    <tr>\n",
       "      <th>2</th>\n",
       "      <td>Canada</td>\n",
       "      <td>41.86</td>\n",
       "    </tr>\n",
       "  </tbody>\n",
       "</table>\n",
       "</div>"
      ],
      "text/plain": [
       "                     country  average_cost_for_two\n",
       "5                  Indonesia             312682.93\n",
       "0                  Australia             138959.78\n",
       "11                 Sri Lanka               2607.47\n",
       "7                Philippines               1211.09\n",
       "4                      India                702.30\n",
       "10              South Africa                335.48\n",
       "8                      Qatar                176.65\n",
       "13      United Arab Emirates                158.22\n",
       "9                  Singapure                141.04\n",
       "1                     Brazil                137.38\n",
       "12                    Turkey                128.85\n",
       "6                 New Zeland                 61.44\n",
       "14  United States of America                 54.92\n",
       "3                    England                 43.05\n",
       "2                     Canada                 41.86"
      ]
     },
     "execution_count": 11,
     "metadata": {},
     "output_type": "execute_result"
    }
   ],
   "source": [
    "mean_cost_two = df1.loc[:, ['country', 'average_cost_for_two']].groupby('country').agg({'average_cost_for_two': 'mean'}).reset_index().sort_values('average_cost_for_two', ascending=False).round(2)\n",
    "mean_cost_two"
   ]
  },
  {
   "cell_type": "markdown",
   "metadata": {},
   "source": [
    "Qual o nome da cidade que possui mais restaurantes registrados?"
   ]
  },
  {
   "cell_type": "code",
   "execution_count": 12,
   "metadata": {},
   "outputs": [
    {
     "data": {
      "text/plain": [
       "'Abu Dhabi'"
      ]
     },
     "execution_count": 12,
     "metadata": {},
     "output_type": "execute_result"
    }
   ],
   "source": [
    "city_counts = df1.groupby('city')['restaurant_id'].nunique().reset_index()\n",
    "city_counts.columns = ['city', 't_restaurants']\n",
    "city_counts = city_counts.sort_values('t_restaurants', ascending=False)\n",
    "biggest_city = city_counts.iloc[0]['city']\n",
    "\n",
    "biggest_city"
   ]
  },
  {
   "cell_type": "markdown",
   "metadata": {},
   "source": [
    "Qual o nome da cidade que possui mais restaurantes com nota média acima de 4?\n"
   ]
  },
  {
   "cell_type": "code",
   "execution_count": null,
   "metadata": {},
   "outputs": [],
   "source": [
    "city_mean_plus = df1['aggregate_rating'] >= 4\n",
    "city_mean_plus = df1.loc[city_mean_plus, ['city', 'country', 'restaurant_id']].value_counts('city').reset_index()\n",
    "b_city_mean_plus = city_mean_plus.iloc[0]['city']\n",
    "b_city_mean_plus"
   ]
  },
  {
   "cell_type": "markdown",
   "metadata": {},
   "source": [
    "Qual o nome da cidade que possui mais restaurantes com nota média abaixo de 2.5?"
   ]
  },
  {
   "cell_type": "code",
   "execution_count": 13,
   "metadata": {},
   "outputs": [
    {
     "data": {
      "text/plain": [
       "'Gangtok'"
      ]
     },
     "execution_count": 13,
     "metadata": {},
     "output_type": "execute_result"
    }
   ],
   "source": [
    "city_mean_last = df1['aggregate_rating'] < 2.5\n",
    "city_mean_last = df1.loc[city_mean_last, ['city', 'country', 'restaurant_id']].value_counts('city').reset_index()\n",
    "b_city_mean_last = city_mean_last.iloc[0]['city']\n",
    "b_city_mean_last"
   ]
  },
  {
   "cell_type": "markdown",
   "metadata": {},
   "source": [
    "Qual o nome da cidade que possui o maior valor médio de um prato para dois?"
   ]
  },
  {
   "cell_type": "code",
   "execution_count": 14,
   "metadata": {},
   "outputs": [
    {
     "data": {
      "text/plain": [
       "'Adelaide'"
      ]
     },
     "execution_count": 14,
     "metadata": {},
     "output_type": "execute_result"
    }
   ],
   "source": [
    "city_mean_cost = df1.loc[:, ['city', 'average_cost_for_two']].groupby('city').agg({'average_cost_for_two': 'mean'}).reset_index().sort_values('average_cost_for_two', ascending=False).round(2)\n",
    "b_city_mean_cost = city_mean_cost.iloc[0]['city']\n",
    "b_city_mean_cost"
   ]
  },
  {
   "cell_type": "markdown",
   "metadata": {},
   "source": [
    "Qual o nome da cidade que possui a maior quantidade de tipos de culinária distintas?"
   ]
  },
  {
   "cell_type": "code",
   "execution_count": 15,
   "metadata": {},
   "outputs": [
    {
     "data": {
      "text/plain": [
       "'Birmingham'"
      ]
     },
     "execution_count": 15,
     "metadata": {},
     "output_type": "execute_result"
    }
   ],
   "source": [
    "city_rest_counts = df1.groupby('city')['cuisines'].nunique().reset_index()\n",
    "city_rest_counts.columns = ['city', 't_cuisines']\n",
    "city_rest_counts = city_rest_counts.sort_values('t_cuisines', ascending=False)\n",
    "\n",
    "b_city_rest_counts = city_rest_counts.iloc[0]['city']\n",
    "\n",
    "b_city_rest_counts"
   ]
  },
  {
   "cell_type": "markdown",
   "metadata": {},
   "source": [
    "Qual o nome da cidade que possui a maior quantidade de restaurantes que fazem\n",
    "reservas?"
   ]
  },
  {
   "cell_type": "code",
   "execution_count": 16,
   "metadata": {},
   "outputs": [
    {
     "data": {
      "text/plain": [
       "'Bangalore'"
      ]
     },
     "execution_count": 16,
     "metadata": {},
     "output_type": "execute_result"
    }
   ],
   "source": [
    "city_rest_book = df1['has_table_booking'] == 1\n",
    "city_rest_book = df1.loc[city_rest_book, ['city', 'restaurant_id']].value_counts('city').reset_index()\n",
    "b_city_rest_book = city_rest_book.iloc[0]['city']\n",
    "b_city_rest_book"
   ]
  },
  {
   "cell_type": "markdown",
   "metadata": {},
   "source": [
    "Qual o nome da cidade que possui a maior quantidade de restaurantes que\n",
    "aceitam pedidos online?"
   ]
  },
  {
   "cell_type": "code",
   "execution_count": 17,
   "metadata": {},
   "outputs": [
    {
     "data": {
      "text/plain": [
       "'Abu Dhabi'"
      ]
     },
     "execution_count": 17,
     "metadata": {},
     "output_type": "execute_result"
    }
   ],
   "source": [
    "city_rest_delivery = df1['has_online_delivery'] == 1\n",
    "city_rest_delivery = df1.loc[city_rest_delivery, ['city', 'restaurant_id']].value_counts('city').reset_index()\n",
    "b_city_rest_delivery = city_rest_delivery.iloc[0]['city']\n",
    "b_city_rest_delivery"
   ]
  },
  {
   "cell_type": "markdown",
   "metadata": {},
   "source": [
    "Qual o nome do restaurante que possui a maior quantidade de avaliações?"
   ]
  },
  {
   "cell_type": "code",
   "execution_count": 87,
   "metadata": {},
   "outputs": [
    {
     "data": {
      "text/plain": [
       "\"Domino's Pizza\""
      ]
     },
     "execution_count": 87,
     "metadata": {},
     "output_type": "execute_result"
    }
   ],
   "source": [
    "rest_votes = df1.loc[:, ['restaurant_name', 'votes']].groupby('restaurant_name').agg({'votes': 'sum'}).reset_index().sort_values('votes', ascending=False)\n",
    "rest_votes = rest_votes.iloc[0]['restaurant_name']\n",
    "rest_votes"
   ]
  },
  {
   "cell_type": "markdown",
   "metadata": {},
   "source": [
    "Qual o nome do restaurante com a maior nota média?"
   ]
  },
  {
   "cell_type": "code",
   "execution_count": 86,
   "metadata": {},
   "outputs": [
    {
     "data": {
      "text/plain": [
       "'Indian Grill Room'"
      ]
     },
     "execution_count": 86,
     "metadata": {},
     "output_type": "execute_result"
    }
   ],
   "source": [
    "rest_mean_best = df1.loc[:, ['restaurant_name', 'aggregate_rating','restaurant_id']].groupby(['restaurant_id','restaurant_name']).agg({'aggregate_rating': 'mean'}).reset_index().sort_values(['aggregate_rating','restaurant_id'], ascending=[False, True])\n",
    "b_rest_mean_best = rest_mean_best.iloc[0]['restaurant_name']\n",
    "b_rest_mean_best"
   ]
  },
  {
   "cell_type": "markdown",
   "metadata": {},
   "source": [
    "Qual o nome do restaurante que possui o maior valor de uma prato para duas\n",
    "pessoas?"
   ]
  },
  {
   "cell_type": "code",
   "execution_count": null,
   "metadata": {},
   "outputs": [],
   "source": [
    "rest_mean_cost = df1.loc[:, ['restaurant_name', 'average_cost_for_two']].groupby('restaurant_name').agg({'average_cost_for_two': 'max'}).reset_index().sort_values('average_cost_for_two', ascending=False).round(2)\n",
    "b_rest_mean_cost = rest_mean_cost.iloc[0]['restaurant_name']\n",
    "b_rest_mean_cost"
   ]
  },
  {
   "cell_type": "markdown",
   "metadata": {},
   "source": [
    "Qual o nome do restaurante de tipo de culinária brasileira que possui a menor\n",
    "média de avaliação?"
   ]
  },
  {
   "cell_type": "code",
   "execution_count": 101,
   "metadata": {},
   "outputs": [
    {
     "data": {
      "text/plain": [
       "'Café das Estrelas'"
      ]
     },
     "execution_count": 101,
     "metadata": {},
     "output_type": "execute_result"
    }
   ],
   "source": [
    "brazilian_cuisines_rests = (df1['cuisines'] == 'Brazilian') & (df1['country'] == 'Brazil') & (df1['aggregate_rating'] > 0)\n",
    "rest_mean_cost = df1.loc[brazilian_cuisines_rests, ['restaurant_name', 'restaurant_id', 'aggregate_rating']].groupby(['restaurant_name', 'restaurant_id']).agg({'aggregate_rating': 'mean'}).reset_index().sort_values(['aggregate_rating','restaurant_id'], ascending=[True,True])\n",
    "l_rest_mean_cost = rest_mean_cost.iloc[0]['restaurant_name']\n",
    "l_rest_mean_cost"
   ]
  },
  {
   "cell_type": "markdown",
   "metadata": {},
   "source": [
    "Qual o nome do restaurante de tipo de culinária brasileira, e que é do Brasil, que\n",
    "possui a maior média de avaliação?\n"
   ]
  },
  {
   "cell_type": "code",
   "execution_count": 100,
   "metadata": {},
   "outputs": [
    {
     "data": {
      "text/plain": [
       "'Braseiro da Gávea'"
      ]
     },
     "execution_count": 100,
     "metadata": {},
     "output_type": "execute_result"
    }
   ],
   "source": [
    "brazilian_cuisines_rests = (df1['cuisines'] == 'Brazilian') & (df1['country'] == 'Brazil') & (df1['aggregate_rating'] > 0)\n",
    "rest_mean_cost = df1.loc[brazilian_cuisines_rests, ['restaurant_name', 'restaurant_id', 'aggregate_rating']].groupby(['restaurant_name', 'restaurant_id']).agg({'aggregate_rating': 'mean'}).reset_index().sort_values(['aggregate_rating','restaurant_id'], ascending=[False,True])\n",
    "b_rest_mean_cost = rest_mean_cost.iloc[0]['restaurant_name']\n",
    "b_rest_mean_cost"
   ]
  },
  {
   "cell_type": "markdown",
   "metadata": {},
   "source": [
    "Os restaurantes que aceitam pedido online são também os\n",
    "restaurantes que mais possuem avaliações acima da média geral?\n"
   ]
  },
  {
   "cell_type": "code",
   "execution_count": 78,
   "metadata": {},
   "outputs": [
    {
     "name": "stdout",
     "output_type": "stream",
     "text": [
      "Sim\n"
     ]
    }
   ],
   "source": [
    "online = df1['has_online_delivery'] == 1\n",
    "online = df1.loc[online, ['has_online_delivery', 'votes']].groupby('has_online_delivery').agg({'votes': 'mean'}).reset_index()\n",
    "online = online.iloc[0,1]\n",
    "online\n",
    "\n",
    "offline = df1['has_online_delivery'] == 0\n",
    "offline = df1.loc[offline, ['has_online_delivery', 'votes']].groupby('has_online_delivery').agg({'votes': 'mean'}).reset_index()\n",
    "offline = offline.iloc[0,1]\n",
    "offline\n",
    "\n",
    "if online > offline:\n",
    "   print('Sim')\n",
    "else:\n",
    "   print('Não')"
   ]
  },
  {
   "cell_type": "code",
   "execution_count": 89,
   "metadata": {},
   "outputs": [
    {
     "ename": "ValueError",
     "evalue": "The truth value of a Series is ambiguous. Use a.empty, a.bool(), a.item(), a.any() or a.all().",
     "output_type": "error",
     "traceback": [
      "\u001b[1;31m---------------------------------------------------------------------------\u001b[0m",
      "\u001b[1;31mValueError\u001b[0m                                Traceback (most recent call last)",
      "\u001b[1;32m~\\AppData\\Local\\Temp\\ipykernel_9860\\3754653630.py\u001b[0m in \u001b[0;36m?\u001b[1;34m()\u001b[0m\n\u001b[0;32m      1\u001b[0m \u001b[0mdf1\u001b[0m\u001b[1;33m[\u001b[0m\u001b[1;34m'delivery'\u001b[0m\u001b[1;33m]\u001b[0m \u001b[1;33m=\u001b[0m \u001b[0mpd\u001b[0m\u001b[1;33m.\u001b[0m\u001b[0mSeries\u001b[0m\u001b[1;33m(\u001b[0m\u001b[1;36m1\u001b[0m\u001b[1;33m)\u001b[0m\u001b[1;33m\u001b[0m\u001b[1;33m\u001b[0m\u001b[0m\n\u001b[1;32m----> 2\u001b[1;33m \u001b[1;32mif\u001b[0m \u001b[1;33m(\u001b[0m\u001b[0mdf1\u001b[0m\u001b[1;33m[\u001b[0m\u001b[1;34m'has_online_delivery'\u001b[0m\u001b[1;33m]\u001b[0m \u001b[1;33m==\u001b[0m \u001b[1;36m1\u001b[0m\u001b[1;33m)\u001b[0m \u001b[1;33m&\u001b[0m \u001b[1;33m(\u001b[0m\u001b[0mdf1\u001b[0m\u001b[1;33m[\u001b[0m\u001b[1;34m'is_delivering_now'\u001b[0m\u001b[1;33m]\u001b[0m \u001b[1;33m==\u001b[0m \u001b[1;36m1\u001b[0m\u001b[1;33m)\u001b[0m\u001b[1;33m:\u001b[0m\u001b[1;33m\u001b[0m\u001b[1;33m\u001b[0m\u001b[0m\n\u001b[0m\u001b[0;32m      3\u001b[0m     \u001b[0mdf1\u001b[0m\u001b[1;33m.\u001b[0m\u001b[0mloc\u001b[0m\u001b[1;33m[\u001b[0m\u001b[1;33m:\u001b[0m\u001b[1;33m,\u001b[0m \u001b[1;34m'delivery'\u001b[0m\u001b[1;33m]\u001b[0m \u001b[1;33m=\u001b[0m \u001b[1;34m'yes'\u001b[0m\u001b[1;33m\u001b[0m\u001b[1;33m\u001b[0m\u001b[0m\n\u001b[0;32m      4\u001b[0m \u001b[1;32melse\u001b[0m\u001b[1;33m:\u001b[0m\u001b[1;33m\u001b[0m\u001b[1;33m\u001b[0m\u001b[0m\n\u001b[0;32m      5\u001b[0m     \u001b[0mdf1\u001b[0m\u001b[1;33m.\u001b[0m\u001b[0mloc\u001b[0m\u001b[1;33m[\u001b[0m\u001b[1;33m:\u001b[0m\u001b[1;33m,\u001b[0m \u001b[1;34m'delivery'\u001b[0m\u001b[1;33m]\u001b[0m \u001b[1;33m=\u001b[0m \u001b[1;34m'no'\u001b[0m\u001b[1;33m\u001b[0m\u001b[1;33m\u001b[0m\u001b[0m\n",
      "\u001b[1;32mc:\\Users\\Acer\\anaconda3\\Lib\\site-packages\\pandas\\core\\generic.py\u001b[0m in \u001b[0;36m?\u001b[1;34m(self)\u001b[0m\n\u001b[0;32m   1575\u001b[0m     \u001b[1;33m@\u001b[0m\u001b[0mfinal\u001b[0m\u001b[1;33m\u001b[0m\u001b[1;33m\u001b[0m\u001b[0m\n\u001b[0;32m   1576\u001b[0m     \u001b[1;32mdef\u001b[0m \u001b[0m__nonzero__\u001b[0m\u001b[1;33m(\u001b[0m\u001b[0mself\u001b[0m\u001b[1;33m)\u001b[0m \u001b[1;33m->\u001b[0m \u001b[0mNoReturn\u001b[0m\u001b[1;33m:\u001b[0m\u001b[1;33m\u001b[0m\u001b[1;33m\u001b[0m\u001b[0m\n\u001b[1;32m-> 1577\u001b[1;33m         raise ValueError(\n\u001b[0m\u001b[0;32m   1578\u001b[0m             \u001b[1;33mf\"\u001b[0m\u001b[1;33mThe truth value of a \u001b[0m\u001b[1;33m{\u001b[0m\u001b[0mtype\u001b[0m\u001b[1;33m(\u001b[0m\u001b[0mself\u001b[0m\u001b[1;33m)\u001b[0m\u001b[1;33m.\u001b[0m\u001b[0m__name__\u001b[0m\u001b[1;33m}\u001b[0m\u001b[1;33m is ambiguous. \u001b[0m\u001b[1;33m\"\u001b[0m\u001b[1;33m\u001b[0m\u001b[1;33m\u001b[0m\u001b[0m\n\u001b[0;32m   1579\u001b[0m             \u001b[1;34m\"Use a.empty, a.bool(), a.item(), a.any() or a.all().\"\u001b[0m\u001b[1;33m\u001b[0m\u001b[1;33m\u001b[0m\u001b[0m\n\u001b[0;32m   1580\u001b[0m         \u001b[1;33m)\u001b[0m\u001b[1;33m\u001b[0m\u001b[1;33m\u001b[0m\u001b[0m\n",
      "\u001b[1;31mValueError\u001b[0m: The truth value of a Series is ambiguous. Use a.empty, a.bool(), a.item(), a.any() or a.all()."
     ]
    }
   ],
   "source": [
    "df1['delivery'] = pd.Series(1)\n",
    "if (df1['has_online_delivery'] == 1) & (df1['is_delivering_now'] == 1):\n",
    "    df1.loc[:, 'delivery'] = 'yes'\n",
    "else:\n",
    "    df1.loc[:, 'delivery'] = 'no'\n",
    "\n",
    "df1['delivery']"
   ]
  },
  {
   "cell_type": "code",
   "execution_count": 76,
   "metadata": {},
   "outputs": [
    {
     "ename": "AttributeError",
     "evalue": "'Series' object has no attribute 'append'",
     "output_type": "error",
     "traceback": [
      "\u001b[1;31m---------------------------------------------------------------------------\u001b[0m",
      "\u001b[1;31mAttributeError\u001b[0m                            Traceback (most recent call last)",
      "\u001b[1;32m~\\AppData\\Local\\Temp\\ipykernel_9860\\4002705218.py\u001b[0m in \u001b[0;36m?\u001b[1;34m()\u001b[0m\n\u001b[0;32m      3\u001b[0m \u001b[0mt_votes_offline\u001b[0m \u001b[1;33m=\u001b[0m \u001b[0moffline\u001b[0m\u001b[1;33m[\u001b[0m\u001b[1;34m'votes'\u001b[0m\u001b[1;33m]\u001b[0m\u001b[1;33m.\u001b[0m\u001b[0msum\u001b[0m\u001b[1;33m(\u001b[0m\u001b[1;33m)\u001b[0m\u001b[1;33m\u001b[0m\u001b[1;33m\u001b[0m\u001b[0m\n\u001b[0;32m      4\u001b[0m \u001b[1;33m\u001b[0m\u001b[0m\n\u001b[0;32m      5\u001b[0m \u001b[1;33m\u001b[0m\u001b[0m\n\u001b[0;32m      6\u001b[0m \u001b[0mdf_aux\u001b[0m \u001b[1;33m=\u001b[0m \u001b[0mpd\u001b[0m\u001b[1;33m.\u001b[0m\u001b[0mDataFrame\u001b[0m\u001b[1;33m(\u001b[0m\u001b[1;33m{\u001b[0m\u001b[1;34m'total_votes'\u001b[0m\u001b[1;33m:\u001b[0m \u001b[0mt_votes_online\u001b[0m\u001b[1;33m,\u001b[0m \u001b[1;34m'total_votes'\u001b[0m\u001b[1;33m:\u001b[0m \u001b[0mt_votes_offline\u001b[0m\u001b[1;33m,\u001b[0m \u001b[1;34m'restaurantes'\u001b[0m\u001b[1;33m:\u001b[0m \u001b[1;34m'Com delivery'\u001b[0m\u001b[1;33m,\u001b[0m \u001b[1;34m'restaurantes'\u001b[0m\u001b[1;33m:\u001b[0m \u001b[1;34m'Sem delivery'\u001b[0m\u001b[1;33m}\u001b[0m\u001b[1;33m,\u001b[0m \u001b[0mindex\u001b[0m\u001b[1;33m=\u001b[0m\u001b[1;33m[\u001b[0m\u001b[1;36m0\u001b[0m\u001b[1;33m]\u001b[0m\u001b[1;33m)\u001b[0m\u001b[1;33m\u001b[0m\u001b[1;33m\u001b[0m\u001b[0m\n\u001b[1;32m----> 7\u001b[1;33m \u001b[0mdf_aux\u001b[0m\u001b[1;33m[\u001b[0m\u001b[1;34m'restaurantes'\u001b[0m\u001b[1;33m]\u001b[0m\u001b[1;33m.\u001b[0m\u001b[0mappend\u001b[0m\u001b[1;33m(\u001b[0m\u001b[1;34m'Com delivery'\u001b[0m\u001b[1;33m)\u001b[0m\u001b[1;33m\u001b[0m\u001b[1;33m\u001b[0m\u001b[0m\n\u001b[0m",
      "\u001b[1;32mc:\\Users\\Acer\\anaconda3\\Lib\\site-packages\\pandas\\core\\generic.py\u001b[0m in \u001b[0;36m?\u001b[1;34m(self, name)\u001b[0m\n\u001b[0;32m   6295\u001b[0m             \u001b[1;32mand\u001b[0m \u001b[0mname\u001b[0m \u001b[1;32mnot\u001b[0m \u001b[1;32min\u001b[0m \u001b[0mself\u001b[0m\u001b[1;33m.\u001b[0m\u001b[0m_accessors\u001b[0m\u001b[1;33m\u001b[0m\u001b[1;33m\u001b[0m\u001b[0m\n\u001b[0;32m   6296\u001b[0m             \u001b[1;32mand\u001b[0m \u001b[0mself\u001b[0m\u001b[1;33m.\u001b[0m\u001b[0m_info_axis\u001b[0m\u001b[1;33m.\u001b[0m\u001b[0m_can_hold_identifiers_and_holds_name\u001b[0m\u001b[1;33m(\u001b[0m\u001b[0mname\u001b[0m\u001b[1;33m)\u001b[0m\u001b[1;33m\u001b[0m\u001b[1;33m\u001b[0m\u001b[0m\n\u001b[0;32m   6297\u001b[0m         \u001b[1;33m)\u001b[0m\u001b[1;33m:\u001b[0m\u001b[1;33m\u001b[0m\u001b[1;33m\u001b[0m\u001b[0m\n\u001b[0;32m   6298\u001b[0m             \u001b[1;32mreturn\u001b[0m \u001b[0mself\u001b[0m\u001b[1;33m[\u001b[0m\u001b[0mname\u001b[0m\u001b[1;33m]\u001b[0m\u001b[1;33m\u001b[0m\u001b[1;33m\u001b[0m\u001b[0m\n\u001b[1;32m-> 6299\u001b[1;33m         \u001b[1;32mreturn\u001b[0m \u001b[0mobject\u001b[0m\u001b[1;33m.\u001b[0m\u001b[0m__getattribute__\u001b[0m\u001b[1;33m(\u001b[0m\u001b[0mself\u001b[0m\u001b[1;33m,\u001b[0m \u001b[0mname\u001b[0m\u001b[1;33m)\u001b[0m\u001b[1;33m\u001b[0m\u001b[1;33m\u001b[0m\u001b[0m\n\u001b[0m",
      "\u001b[1;31mAttributeError\u001b[0m: 'Series' object has no attribute 'append'"
     ]
    }
   ],
   "source": [
    "offline = (df1['has_online_delivery'] == 0) & (df1['is_delivering_now'] ==0)\n",
    "offline = df1.loc[offline, ['restaurant_name', 'votes']].groupby('restaurant_name').agg({'votes': 'sum'}).reset_index().sort_values('votes', ascending=False)\n",
    "t_votes_offline = offline['votes'].sum()\n",
    "\n",
    "\n",
    "df_aux = pd.DataFrame({'total_votes': t_votes_online, 'total_votes': t_votes_offline, 'restaurantes': 'Com delivery', 'restaurantes': 'Sem delivery'}, index=[0])\n",
    "df_aux['restaurantes'].append('Com delivery')"
   ]
  },
  {
   "cell_type": "code",
   "execution_count": 54,
   "metadata": {},
   "outputs": [
    {
     "ename": "AttributeError",
     "evalue": "'numpy.int64' object has no attribute 'append'",
     "output_type": "error",
     "traceback": [
      "\u001b[1;31m---------------------------------------------------------------------------\u001b[0m",
      "\u001b[1;31mAttributeError\u001b[0m                            Traceback (most recent call last)",
      "Cell \u001b[1;32mIn[54], line 2\u001b[0m\n\u001b[0;32m      1\u001b[0m delivery \u001b[38;5;241m=\u001b[39m {\u001b[38;5;124m'\u001b[39m\u001b[38;5;124mtotal_votes\u001b[39m\u001b[38;5;124m'\u001b[39m: t_votes_online, \u001b[38;5;124m'\u001b[39m\u001b[38;5;124mrestaurantes\u001b[39m\u001b[38;5;124m'\u001b[39m: \u001b[38;5;124m'\u001b[39m\u001b[38;5;124mCom delivery\u001b[39m\u001b[38;5;124m'\u001b[39m}\n\u001b[1;32m----> 2\u001b[0m delivery[\u001b[38;5;124m'\u001b[39m\u001b[38;5;124mtotal_votes\u001b[39m\u001b[38;5;124m'\u001b[39m]\u001b[38;5;241m.\u001b[39mappend(t_votes_offline)\n\u001b[0;32m      3\u001b[0m delivery\n",
      "\u001b[1;31mAttributeError\u001b[0m: 'numpy.int64' object has no attribute 'append'"
     ]
    }
   ],
   "source": [
    "delivery = {'total_votes': t_votes_online, 'restaurantes': 'Com delivery'}\n",
    "delivery['total_votes'].append(t_votes_offline)\n",
    "delivery"
   ]
  },
  {
   "cell_type": "code",
   "execution_count": null,
   "metadata": {},
   "outputs": [],
   "source": [
    "\n",
    "offline = df1['has_online_delivery'] == 0\n",
    "offline = df1.loc[offline, ['has_online_delivery', 'votes']].groupby('has_online_delivery').agg({'votes': 'mean'}).reset_index()\n",
    "offline = offline.iloc[0,1]\n",
    "offline\n",
    "\n",
    "if online > offline:\n",
    "   print('Sim')\n",
    "else:\n",
    "   print('Não')"
   ]
  },
  {
   "cell_type": "markdown",
   "metadata": {},
   "source": [
    "Os restaurantes que fazem reservas são também os restaurantes que\n",
    "possuem o maior valor médio de um prato para duas pessoas?"
   ]
  },
  {
   "cell_type": "code",
   "execution_count": 45,
   "metadata": {},
   "outputs": [
    {
     "name": "stdout",
     "output_type": "stream",
     "text": [
      "Sim\n"
     ]
    }
   ],
   "source": [
    "book_rests = df1['has_table_booking'] == 1\n",
    "book_rests_mean_two = df1.loc[book_rests, ['has_table_booking', 'average_cost_for_two']].groupby('has_table_booking').agg({'average_cost_for_two': 'mean'}).round(2)\n",
    "book_rests_mean_two = book_rests_mean_two.iloc[0,0] \n",
    "mean_cost_two = df1['average_cost_for_two'].mean()\n",
    "\n",
    "if book_rests_mean_two > mean_cost_two:\n",
    "  print('Sim')\n",
    "else:\n",
    "  print('Não')"
   ]
  },
  {
   "cell_type": "markdown",
   "metadata": {},
   "source": [
    "Os restaurantes do tipo de culinária japonesa dos Estados Unidos da América\n",
    "possuem um valor médio de prato para duas pessoas maior que as churrascarias\n",
    "americanas (BBQ)?"
   ]
  },
  {
   "cell_type": "code",
   "execution_count": null,
   "metadata": {},
   "outputs": [],
   "source": [
    "jap_cuisines_usa_rest = (df1['cuisines'] == 'Japanese') & (df1['country'] == 'United States of America')\n",
    "jap_cuisines_usa_rest = df1.loc[jap_cuisines_usa_rest, ['cuisines', 'average_cost_for_two']].groupby('cuisines').agg({'average_cost_for_two': 'mean'}).reset_index().sort_values('average_cost_for_two', ascending=False).round(2)\n",
    "jap_cuisines_usa_rest = jap_cuisines_usa_rest.iloc[0,1]\n",
    "\n",
    "bbq_cuisines_usa_rest = (df1['cuisines'] == 'BBQ') & (df1['country'] == 'United States of America')\n",
    "bbq_cuisines_usa_rest = df1.loc[bbq_cuisines_usa_rest, ['cuisines', 'average_cost_for_two']].groupby('cuisines').agg({'average_cost_for_two': 'mean'}).reset_index().sort_values('average_cost_for_two', ascending=False).round(2)\n",
    "bbq_cuisines_usa_rest = bbq_cuisines_usa_rest.iloc[0,1]\n",
    "\n",
    "if jap_cuisines_usa_rest > bbq_cuisines_usa_rest:\n",
    "  print('Sim')\n",
    "else:\n",
    "  print('Não')"
   ]
  },
  {
   "cell_type": "markdown",
   "metadata": {},
   "source": [
    "Dos restaurantes que possuem o tipo de culinária italiana, qual o nome do\n",
    "restaurante com a maior média de avaliação?\n"
   ]
  },
  {
   "cell_type": "code",
   "execution_count": 107,
   "metadata": {},
   "outputs": [
    {
     "data": {
      "text/plain": [
       "'Darshan'"
      ]
     },
     "execution_count": 107,
     "metadata": {},
     "output_type": "execute_result"
    }
   ],
   "source": [
    "italian_cuisines_rests = (df1['cuisines'] == 'Italian') & (df1['aggregate_rating'] > 0)\n",
    "italian_cuisines_rests = df1.loc[italian_cuisines_rests, ['restaurant_name', 'restaurant_id', 'aggregate_rating']].groupby(['restaurant_name','restaurant_id']).agg({'aggregate_rating': 'mean'}).reset_index().sort_values(['aggregate_rating','restaurant_id'], ascending=[False,True])\n",
    "italian_cuisines_rests = italian_cuisines_rests.iloc[0,0]\n",
    "italian_cuisines_rests"
   ]
  },
  {
   "cell_type": "markdown",
   "metadata": {},
   "source": [
    "Dos restaurantes que possuem o tipo de culinária italiana, qual o nome do\n",
    "restaurante com a menor média de avaliação?\n"
   ]
  },
  {
   "cell_type": "code",
   "execution_count": 108,
   "metadata": {},
   "outputs": [
    {
     "data": {
      "text/plain": [
       "\"Siena's\""
      ]
     },
     "execution_count": 108,
     "metadata": {},
     "output_type": "execute_result"
    }
   ],
   "source": [
    "italian_cuisines_rests = (df1['cuisines'] == 'Italian') & (df1['aggregate_rating'] > 0)\n",
    "italian_cuisines_rests = df1.loc[italian_cuisines_rests, ['restaurant_name', 'restaurant_id', 'aggregate_rating']].groupby(['restaurant_name','restaurant_id']).agg({'aggregate_rating': 'mean'}).reset_index().sort_values(['aggregate_rating','restaurant_id'], ascending=[True,True])\n",
    "italian_cuisines_rests = italian_cuisines_rests.iloc[0,0]\n",
    "italian_cuisines_rests"
   ]
  },
  {
   "cell_type": "markdown",
   "metadata": {},
   "source": [
    "Dos restaurantes que possuem o tipo de culinária americana, qual o nome do\n",
    "restaurante com a maior média de avaliação?"
   ]
  },
  {
   "cell_type": "code",
   "execution_count": 115,
   "metadata": {},
   "outputs": [
    {
     "data": {
      "text/plain": [
       "'Burger & Lobster'"
      ]
     },
     "execution_count": 115,
     "metadata": {},
     "output_type": "execute_result"
    }
   ],
   "source": [
    "american_cuisines_rests = (df1['cuisines'] == 'American') & (df1['aggregate_rating'] > 0)\n",
    "american_cuisines_rests = df1.loc[american_cuisines_rests, ['restaurant_name', 'restaurant_id', 'aggregate_rating']].groupby(['restaurant_name','restaurant_id']).agg({'aggregate_rating': 'mean'}).reset_index().sort_values(['aggregate_rating','restaurant_id'], ascending=[False,True])\n",
    "american_cuisines_rests = american_cuisines_rests.iloc[0,0]\n",
    "american_cuisines_rests"
   ]
  },
  {
   "cell_type": "markdown",
   "metadata": {},
   "source": [
    " Dos restaurantes que possuem o tipo de culinária americana, qual o nome do\n",
    "restaurante com a menor média de avaliação?\n"
   ]
  },
  {
   "cell_type": "code",
   "execution_count": 51,
   "metadata": {},
   "outputs": [
    {
     "data": {
      "text/plain": [
       "\"Guy Fieri's Kitchen & Bar\""
      ]
     },
     "execution_count": 51,
     "metadata": {},
     "output_type": "execute_result"
    }
   ],
   "source": [
    "american_cuisines_rests = (df1['cuisines'] == 'American') & (df1['aggregate_rating'] > 0)\n",
    "american_cuisines_rests = df1.loc[american_cuisines_rests, ['restaurant_name', 'restaurant_id', 'aggregate_rating']].groupby(['restaurant_name','restaurant_id']).agg({'aggregate_rating': 'mean'}).reset_index().sort_values(['aggregate_rating','restaurant_id'], ascending=[True,True])\n",
    "american_cuisines_rests = american_cuisines_rests.iloc[0,0]\n",
    "american_cuisines_rests"
   ]
  },
  {
   "cell_type": "markdown",
   "metadata": {},
   "source": [
    " Dos restaurantes que possuem o tipo de culinária árabe, qual o nome do\n",
    "restaurante com a maior média de avaliação?"
   ]
  },
  {
   "cell_type": "code",
   "execution_count": 116,
   "metadata": {},
   "outputs": [
    {
     "data": {
      "text/plain": [
       "'Mandi@36'"
      ]
     },
     "execution_count": 116,
     "metadata": {},
     "output_type": "execute_result"
    }
   ],
   "source": [
    "arab_cuisines_rests = (df1['cuisines'] == 'Arabian') & (df1['aggregate_rating'] > 0)\n",
    "arab_cuisines_rests = df1.loc[arab_cuisines_rests, ['restaurant_name', 'restaurant_id', 'aggregate_rating']].groupby(['restaurant_name','restaurant_id']).agg({'aggregate_rating': 'mean'}).reset_index().sort_values(['aggregate_rating','restaurant_id'], ascending=[False,True])\n",
    "arab_cuisines_rests = arab_cuisines_rests.iloc[0,0]\n",
    "arab_cuisines_rests"
   ]
  },
  {
   "cell_type": "markdown",
   "metadata": {},
   "source": [
    "Dos restaurantes que possuem o tipo de culinária árabe, qual o nome do\n",
    "restaurante com a menor média de avaliação?"
   ]
  },
  {
   "cell_type": "code",
   "execution_count": 117,
   "metadata": {},
   "outputs": [
    {
     "data": {
      "text/plain": [
       "'Empório Árabe'"
      ]
     },
     "execution_count": 117,
     "metadata": {},
     "output_type": "execute_result"
    }
   ],
   "source": [
    "arab_cuisines_rests = (df1['cuisines'] == 'Arabian') & (df1['aggregate_rating'] > 0)\n",
    "arab_cuisines_rests = df1.loc[arab_cuisines_rests, ['restaurant_name', 'restaurant_id', 'aggregate_rating']].groupby(['restaurant_name','restaurant_id']).agg({'aggregate_rating': 'mean'}).reset_index().sort_values(['aggregate_rating','restaurant_id'], ascending=[True,True])\n",
    "arab_cuisines_rests = arab_cuisines_rests.iloc[0,0]\n",
    "arab_cuisines_rests\n",
    "\n"
   ]
  },
  {
   "cell_type": "markdown",
   "metadata": {},
   "source": [
    "Dos restaurantes que possuem o tipo de culinária japonesa, qual o nome do\n",
    "restaurante com a maior média de avaliação?\n"
   ]
  },
  {
   "cell_type": "code",
   "execution_count": 119,
   "metadata": {},
   "outputs": [
    {
     "data": {
      "text/plain": [
       "'Sushi Samba'"
      ]
     },
     "execution_count": 119,
     "metadata": {},
     "output_type": "execute_result"
    }
   ],
   "source": [
    "japanese_cuisines_rests = (df1['cuisines'] == 'Japanese') & (df1['aggregate_rating'] > 0)\n",
    "japanese_cuisines_rests = df1.loc[japanese_cuisines_rests, ['restaurant_name', 'restaurant_id', 'aggregate_rating']].groupby(['restaurant_name','restaurant_id']).agg({'aggregate_rating': 'mean'}).reset_index().sort_values(['aggregate_rating','restaurant_id'], ascending=[False,True])\n",
    "japanese_cuisines_rests = japanese_cuisines_rests.iloc[0,0]\n",
    "japanese_cuisines_rests"
   ]
  },
  {
   "cell_type": "markdown",
   "metadata": {},
   "source": [
    " Dos restaurantes que possuem o tipo de culinária japonesa, qual o nome do\n",
    "restaurante com a menor média de avaliação?\n"
   ]
  },
  {
   "cell_type": "code",
   "execution_count": 121,
   "metadata": {},
   "outputs": [
    {
     "data": {
      "text/plain": [
       "'Orienthai'"
      ]
     },
     "execution_count": 121,
     "metadata": {},
     "output_type": "execute_result"
    }
   ],
   "source": [
    "japanese_cuisines_rests = (df1['cuisines'] == 'Japanese') & (df1['aggregate_rating'] > 0)\n",
    "japanese_cuisines_rests = df1.loc[japanese_cuisines_rests, ['restaurant_name', 'restaurant_id', 'aggregate_rating']].groupby(['restaurant_name','restaurant_id']).agg({'aggregate_rating': 'mean'}).reset_index().sort_values(['aggregate_rating','restaurant_id'], ascending=[True,True])\n",
    "japanese_cuisines_rests = japanese_cuisines_rests.iloc[0,0]\n",
    "japanese_cuisines_rests"
   ]
  },
  {
   "cell_type": "markdown",
   "metadata": {},
   "source": [
    "Dos restaurantes que possuem o tipo de culinária caseira, qual o nome do\n",
    "restaurante com a maior média de avaliação?\n"
   ]
  },
  {
   "cell_type": "code",
   "execution_count": 122,
   "metadata": {},
   "outputs": [
    {
     "data": {
      "text/plain": [
       "'Kanaat Lokantası'"
      ]
     },
     "execution_count": 122,
     "metadata": {},
     "output_type": "execute_result"
    }
   ],
   "source": [
    "case_cuisines_rests = (df1['cuisines'] == 'Home-made') & (df1['aggregate_rating'] > 0)\n",
    "case_cuisines_rests = df1.loc[case_cuisines_rests, ['restaurant_name', 'restaurant_id', 'aggregate_rating']].groupby(['restaurant_name','restaurant_id']).agg({'aggregate_rating': 'mean'}).reset_index().sort_values(['aggregate_rating','restaurant_id'], ascending=[False,True])\n",
    "case_cuisines_rests = case_cuisines_rests.iloc[0,0]\n",
    "case_cuisines_rests"
   ]
  },
  {
   "cell_type": "markdown",
   "metadata": {},
   "source": [
    "Dos restaurantes que possuem o tipo de culinária caseira, qual o nome do\n",
    "restaurante com a menor média de avaliação?\n"
   ]
  },
  {
   "cell_type": "code",
   "execution_count": 123,
   "metadata": {},
   "outputs": [
    {
     "data": {
      "text/plain": [
       "'GurMekan Restaurant'"
      ]
     },
     "execution_count": 123,
     "metadata": {},
     "output_type": "execute_result"
    }
   ],
   "source": [
    "case_cuisines_rests = (df1['cuisines'] == 'Home-made') & (df1['aggregate_rating'] > 0)\n",
    "case_cuisines_rests = df1.loc[case_cuisines_rests, ['restaurant_name', 'restaurant_id', 'aggregate_rating']].groupby(['restaurant_name','restaurant_id']).agg({'aggregate_rating': 'mean'}).reset_index().sort_values(['aggregate_rating','restaurant_id'], ascending=[True,True])\n",
    "case_cuisines_rests = case_cuisines_rests.iloc[0,0]\n",
    "case_cuisines_rests"
   ]
  },
  {
   "cell_type": "markdown",
   "metadata": {},
   "source": [
    "Qual o tipo de culinária que possui o maior valor médio de um prato para duas\n",
    "pessoas?\n"
   ]
  },
  {
   "cell_type": "code",
   "execution_count": 124,
   "metadata": {},
   "outputs": [
    {
     "data": {
      "text/plain": [
       "'Modern Australian'"
      ]
     },
     "execution_count": 124,
     "metadata": {},
     "output_type": "execute_result"
    }
   ],
   "source": [
    "mean_cost_two = df1.loc[:, ['cuisines', 'average_cost_for_two']].groupby('cuisines').agg({'average_cost_for_two': 'mean'}).reset_index().sort_values('average_cost_for_two', ascending=False).round(2)\n",
    "mean_cost_two = mean_cost_two.iloc[0,0]\n",
    "mean_cost_two"
   ]
  },
  {
   "cell_type": "markdown",
   "metadata": {},
   "source": [
    "Qual o tipo de culinária que possui a maior nota média?\n"
   ]
  },
  {
   "cell_type": "code",
   "execution_count": 125,
   "metadata": {},
   "outputs": [
    {
     "data": {
      "text/plain": [
       "'Others'"
      ]
     },
     "execution_count": 125,
     "metadata": {},
     "output_type": "execute_result"
    }
   ],
   "source": [
    "mean_best = df1.loc[:, ['cuisines', 'aggregate_rating']].groupby('cuisines').agg({'aggregate_rating': 'mean'}).reset_index().sort_values('aggregate_rating', ascending=False).round(2)\n",
    "mean_best = mean_best.iloc[0,0]\n",
    "mean_best"
   ]
  },
  {
   "cell_type": "markdown",
   "metadata": {},
   "source": [
    "Qual o tipo de culinária que possui mais restaurantes que aceitam pedidos\n",
    "online e fazem entregas?\n"
   ]
  },
  {
   "cell_type": "code",
   "execution_count": 126,
   "metadata": {},
   "outputs": [
    {
     "data": {
      "text/plain": [
       "'North Indian'"
      ]
     },
     "execution_count": 126,
     "metadata": {},
     "output_type": "execute_result"
    }
   ],
   "source": [
    "online_delivery = (df1['has_online_delivery'] == 1) & (df1['is_delivering_now'] ==1)\n",
    "rest_online_delivery = df1.loc[online_delivery, ['cuisines', 'restaurant_id']].value_counts('cuisines').reset_index().sort_values('count', ascending=False)\n",
    "rest_online_delivery = rest_online_delivery.iloc[0,0]\n",
    "rest_online_delivery"
   ]
  },
  {
   "cell_type": "code",
   "execution_count": 10,
   "metadata": {},
   "outputs": [
    {
     "data": {
      "text/plain": [
       "array(['Philippines', 'Brazil', 'Australia', 'United States of America',\n",
       "       'Canada', 'Singapure', 'United Arab Emirates', 'India',\n",
       "       'Indonesia', 'New Zeland', 'England', 'Qatar', 'South Africa',\n",
       "       'Sri Lanka', 'Turkey'], dtype=object)"
      ]
     },
     "execution_count": 10,
     "metadata": {},
     "output_type": "execute_result"
    }
   ],
   "source": [
    "df1['country'].unique()"
   ]
  },
  {
   "cell_type": "code",
   "execution_count": 19,
   "metadata": {},
   "outputs": [],
   "source": [
    "def best_5_countries(df1, coluna):\n",
    "    nozero = df1[coluna] != 0\n",
    "    country_mean_best = (df1.loc[nozero, ['country', 'aggregate_rating', 'votes']]\n",
    "                         .groupby('country')\n",
    "                         .agg({coluna : 'mean'})\n",
    "                         .reset_index()\n",
    "                         .sort_values(coluna, ascending=False)\n",
    "                         .round(2)\n",
    "                         .head(5))\n",
    "    if coluna == 'aggregate_rating':\n",
    "        y_name = 'Nota média'\n",
    "    else:\n",
    "        y_name = 'Média de avaliações recebidas'\n",
    "\n",
    "    fig = px.bar(country_mean_best, \n",
    "                x='country', \n",
    "                y=coluna,\n",
    "                title='5 países com a melhor nota média',\n",
    "                labels={'country': 'País', coluna: y_name},\n",
    "                color=coluna,\n",
    "                color_continuous_scale='rdgy')\n",
    "    fig.update_traces(marker=dict(color='red'))\n",
    "    fig.update_layout(\n",
    "        xaxis_title='Países',\n",
    "        yaxis_title=y_name,\n",
    "        xaxis_tickangle=-45,\n",
    "        showlegend=False,\n",
    "        height=600,\n",
    "        width=500,\n",
    "        plot_bgcolor='rgb(175, 175, 175)',\n",
    "        font_color='white')\n",
    "    fig.update_traces(hovertemplate='País: %{x}<br>y_name: %{y}')\n",
    "    return fig"
   ]
  },
  {
   "cell_type": "code",
   "execution_count": 23,
   "metadata": {},
   "outputs": [
    {
     "ename": "TypeError",
     "evalue": "best_5_countries() missing 1 required positional argument: 'y_name'",
     "output_type": "error",
     "traceback": [
      "\u001b[1;31m---------------------------------------------------------------------------\u001b[0m",
      "\u001b[1;31mTypeError\u001b[0m                                 Traceback (most recent call last)",
      "Cell \u001b[1;32mIn[23], line 1\u001b[0m\n\u001b[1;32m----> 1\u001b[0m fig \u001b[38;5;241m=\u001b[39m best_5_countries(df1, \u001b[38;5;124m'\u001b[39m\u001b[38;5;124mvotes\u001b[39m\u001b[38;5;124m'\u001b[39m)\n\u001b[0;32m      2\u001b[0m fig\n",
      "\u001b[1;31mTypeError\u001b[0m: best_5_countries() missing 1 required positional argument: 'y_name'"
     ]
    }
   ],
   "source": [
    "fig = best_5_countries(df1, 'votes')\n",
    "fig"
   ]
  },
  {
   "cell_type": "code",
   "execution_count": 17,
   "metadata": {},
   "outputs": [
    {
     "data": {
      "text/html": [
       "<div>\n",
       "<style scoped>\n",
       "    .dataframe tbody tr th:only-of-type {\n",
       "        vertical-align: middle;\n",
       "    }\n",
       "\n",
       "    .dataframe tbody tr th {\n",
       "        vertical-align: top;\n",
       "    }\n",
       "\n",
       "    .dataframe thead th {\n",
       "        text-align: right;\n",
       "    }\n",
       "</style>\n",
       "<table border=\"1\" class=\"dataframe\">\n",
       "  <thead>\n",
       "    <tr style=\"text-align: right;\">\n",
       "      <th></th>\n",
       "      <th>country</th>\n",
       "      <th>aggregate_rating</th>\n",
       "    </tr>\n",
       "  </thead>\n",
       "  <tbody>\n",
       "    <tr>\n",
       "      <th>5</th>\n",
       "      <td>Indonesia</td>\n",
       "      <td>4.60</td>\n",
       "    </tr>\n",
       "    <tr>\n",
       "      <th>7</th>\n",
       "      <td>Philippines</td>\n",
       "      <td>4.46</td>\n",
       "    </tr>\n",
       "    <tr>\n",
       "      <th>9</th>\n",
       "      <td>Singapure</td>\n",
       "      <td>4.43</td>\n",
       "    </tr>\n",
       "    <tr>\n",
       "      <th>14</th>\n",
       "      <td>United States of America</td>\n",
       "      <td>4.40</td>\n",
       "    </tr>\n",
       "    <tr>\n",
       "      <th>0</th>\n",
       "      <td>Australia</td>\n",
       "      <td>4.37</td>\n",
       "    </tr>\n",
       "  </tbody>\n",
       "</table>\n",
       "</div>"
      ],
      "text/plain": [
       "                     country  aggregate_rating\n",
       "5                  Indonesia              4.60\n",
       "7                Philippines              4.46\n",
       "9                  Singapure              4.43\n",
       "14  United States of America              4.40\n",
       "0                  Australia              4.37"
      ]
     },
     "execution_count": 17,
     "metadata": {},
     "output_type": "execute_result"
    }
   ],
   "source": [
    "nozero = df1['aggregate_rating'] != 0\n",
    "country_mean_best = (df1.loc[nozero, ['country', 'aggregate_rating', 'votes']]\n",
    "                        .groupby('country')\n",
    "                        .agg({'aggregate_rating':'mean'})\n",
    "                        .reset_index()\n",
    "                        .sort_values('aggregate_rating', ascending=False)\n",
    "                        .round(2)\n",
    "                        .head(5))\n",
    "country_mean_best"
   ]
  },
  {
   "cell_type": "code",
   "execution_count": null,
   "metadata": {},
   "outputs": [],
   "source": [
    "def best_5_countries(df1, coluna):\n",
    "    nozero = df1[coluna] != 0\n",
    "    country_mean_best = (df1.loc[nozero, ['country', 'aggregate_rating', 'votes']]\n",
    "                         .groupby('country')\n",
    "                         .agg({coluna : 'mean'})\n",
    "                         .reset_index()\n",
    "                         .sort_values(coluna, ascending=False)\n",
    "                         .round(2)\n",
    "                         .head(5))\n",
    "\n",
    "    fig = px.bar(country_mean_best, \n",
    "                x='country', \n",
    "                y='coluna',"
   ]
  }
 ],
 "metadata": {
  "kernelspec": {
   "display_name": "base",
   "language": "python",
   "name": "python3"
  },
  "language_info": {
   "codemirror_mode": {
    "name": "ipython",
    "version": 3
   },
   "file_extension": ".py",
   "mimetype": "text/x-python",
   "name": "python",
   "nbconvert_exporter": "python",
   "pygments_lexer": "ipython3",
   "version": "3.12.4"
  }
 },
 "nbformat": 4,
 "nbformat_minor": 2
}
